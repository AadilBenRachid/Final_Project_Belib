{
 "cells": [
  {
   "cell_type": "code",
   "execution_count": 234,
   "metadata": {},
   "outputs": [],
   "source": [
    "#Import your libraries\n",
    "\n",
    "from sklearn.model_selection import train_test_split\n",
    "from pandas.plotting import parallel_coordinates\n",
    "from sklearn.tree import DecisionTreeClassifier, plot_tree\n",
    "from sklearn import metrics\n",
    "from sklearn.naive_bayes import GaussianNB\n",
    "from sklearn.neighbors import KNeighborsClassifier\n",
    "import numpy as np\n",
    "import pandas as pd\n",
    "\n",
    "import matplotlib.pyplot as plt\n",
    "%matplotlib inline\n",
    "import seaborn as sns\n",
    "from datetime import datetime\n",
    "\n",
    "from yellowbrick.cluster import KElbowVisualizer\n",
    "from sklearn.cluster import KMeans\n",
    "import folium\n",
    "from sklearn.cluster import AgglomerativeClustering\n",
    "from sklearn.cluster import DBSCAN\n",
    "from sklearn.metrics import v_measure_score\n",
    "from sklearn.metrics import silhouette_score, calinski_harabasz_score, completeness_score, homogeneity_score"
   ]
  },
  {
   "cell_type": "code",
   "execution_count": 235,
   "metadata": {},
   "outputs": [],
   "source": [
    "data = pd.read_csv(r'C:\\Users\\ABR\\Desktop\\ProjetFinal\\belib_points_de_recharge_clean2.csv')\n"
   ]
  },
  {
   "cell_type": "code",
   "execution_count": 236,
   "metadata": {},
   "outputs": [
    {
     "data": {
      "text/html": [
       "<div>\n",
       "<style scoped>\n",
       "    .dataframe tbody tr th:only-of-type {\n",
       "        vertical-align: middle;\n",
       "    }\n",
       "\n",
       "    .dataframe tbody tr th {\n",
       "        vertical-align: top;\n",
       "    }\n",
       "\n",
       "    .dataframe thead th {\n",
       "        text-align: right;\n",
       "    }\n",
       "</style>\n",
       "<table border=\"1\" class=\"dataframe\">\n",
       "  <thead>\n",
       "    <tr style=\"text-align: right;\">\n",
       "      <th></th>\n",
       "      <th>ID PDC local_x</th>\n",
       "      <th>Statut du Point de charge</th>\n",
       "      <th>Arrondissement_x</th>\n",
       "      <th>ID Station local</th>\n",
       "      <th>ID Station itinérance</th>\n",
       "      <th>Nom station</th>\n",
       "      <th>Code INSEE commune_x</th>\n",
       "      <th>Type implantation</th>\n",
       "      <th>Nombre point de recharge</th>\n",
       "      <th>Date mise à jour</th>\n",
       "      <th>...</th>\n",
       "      <th>Restriction gabarit</th>\n",
       "      <th>Stationnement 2 roues</th>\n",
       "      <th>Puissance max KW</th>\n",
       "      <th>Horaires</th>\n",
       "      <th>Statut du point de recharge</th>\n",
       "      <th>URL Description Point de charge</th>\n",
       "      <th>Heure mise à jour</th>\n",
       "      <th>Type de chargeur</th>\n",
       "      <th>latitude</th>\n",
       "      <th>longitude</th>\n",
       "    </tr>\n",
       "  </thead>\n",
       "  <tbody>\n",
       "    <tr>\n",
       "      <th>0</th>\n",
       "      <td>FR*V75*E9006*02*3</td>\n",
       "      <td>En service</td>\n",
       "      <td>06e Arrondissement</td>\n",
       "      <td>FR*V75*P9006*02</td>\n",
       "      <td>FRV75P900602</td>\n",
       "      <td>Paris | Rue de Medicis 11</td>\n",
       "      <td>75106.0</td>\n",
       "      <td>Voirie</td>\n",
       "      <td>3</td>\n",
       "      <td>2021-09-23</td>\n",
       "      <td>...</td>\n",
       "      <td>aucune restriction</td>\n",
       "      <td>False</td>\n",
       "      <td>22.0</td>\n",
       "      <td>24/7</td>\n",
       "      <td>En maintenance</td>\n",
       "      <td>https://parisdata.opendatasoft.com/explore/dat...</td>\n",
       "      <td>2022-06-13T04:30:01+02:00</td>\n",
       "      <td>Prise type EF</td>\n",
       "      <td>48.848240</td>\n",
       "      <td>2.339865</td>\n",
       "    </tr>\n",
       "    <tr>\n",
       "      <th>1</th>\n",
       "      <td>FR*V75*E9009*01*2</td>\n",
       "      <td>En service</td>\n",
       "      <td>09e Arrondissement</td>\n",
       "      <td>FR*V75*P9009*01</td>\n",
       "      <td>FRV75P900901</td>\n",
       "      <td>Paris | Boulevard de Clichy 31</td>\n",
       "      <td>75109.0</td>\n",
       "      <td>Voirie</td>\n",
       "      <td>3</td>\n",
       "      <td>2021-09-23</td>\n",
       "      <td>...</td>\n",
       "      <td>aucune restriction</td>\n",
       "      <td>False</td>\n",
       "      <td>4.0</td>\n",
       "      <td>24/7</td>\n",
       "      <td>Inconnu</td>\n",
       "      <td>https://parisdata.opendatasoft.com/explore/dat...</td>\n",
       "      <td>2022-06-13T04:30:01+02:00</td>\n",
       "      <td>Prise type EF</td>\n",
       "      <td>48.882640</td>\n",
       "      <td>2.335728</td>\n",
       "    </tr>\n",
       "    <tr>\n",
       "      <th>2</th>\n",
       "      <td>FR*V75*E9013*04*1</td>\n",
       "      <td>En service</td>\n",
       "      <td>13e Arrondissement</td>\n",
       "      <td>FR*V75*P9013*04</td>\n",
       "      <td>FRV75P901304</td>\n",
       "      <td>Paris | Rue de l'Amiral Mouchez 77</td>\n",
       "      <td>75113.0</td>\n",
       "      <td>Voirie</td>\n",
       "      <td>3</td>\n",
       "      <td>2021-09-23</td>\n",
       "      <td>...</td>\n",
       "      <td>aucune restriction</td>\n",
       "      <td>False</td>\n",
       "      <td>22.0</td>\n",
       "      <td>24/7</td>\n",
       "      <td>En maintenance</td>\n",
       "      <td>https://parisdata.opendatasoft.com/explore/dat...</td>\n",
       "      <td>2022-06-13T04:30:01+02:00</td>\n",
       "      <td>Prise type EF</td>\n",
       "      <td>48.820850</td>\n",
       "      <td>2.343626</td>\n",
       "    </tr>\n",
       "    <tr>\n",
       "      <th>3</th>\n",
       "      <td>FR*V75*E9014*03*3</td>\n",
       "      <td>En service</td>\n",
       "      <td>14e Arrondissement</td>\n",
       "      <td>FR*V75*P9014*03</td>\n",
       "      <td>FRV75P901403</td>\n",
       "      <td>Paris | Boulevard Edgar Quinet 9</td>\n",
       "      <td>75114.0</td>\n",
       "      <td>Voirie</td>\n",
       "      <td>3</td>\n",
       "      <td>2021-09-23</td>\n",
       "      <td>...</td>\n",
       "      <td>aucune restriction</td>\n",
       "      <td>False</td>\n",
       "      <td>22.0</td>\n",
       "      <td>24/7</td>\n",
       "      <td>En maintenance</td>\n",
       "      <td>https://parisdata.opendatasoft.com/explore/dat...</td>\n",
       "      <td>2022-06-13T04:30:01+02:00</td>\n",
       "      <td>Prise type EF</td>\n",
       "      <td>48.841198</td>\n",
       "      <td>2.323891</td>\n",
       "    </tr>\n",
       "    <tr>\n",
       "      <th>4</th>\n",
       "      <td>FR*V75*E9016*06*1</td>\n",
       "      <td>En service</td>\n",
       "      <td>16e Arrondissement</td>\n",
       "      <td>FR*V75*P9016*06</td>\n",
       "      <td>FRV75P901606</td>\n",
       "      <td>Paris | Avenue Victor Hugo 45</td>\n",
       "      <td>75116.0</td>\n",
       "      <td>Voirie</td>\n",
       "      <td>3</td>\n",
       "      <td>2021-09-23</td>\n",
       "      <td>...</td>\n",
       "      <td>aucune restriction</td>\n",
       "      <td>False</td>\n",
       "      <td>22.0</td>\n",
       "      <td>24/7</td>\n",
       "      <td>Disponible</td>\n",
       "      <td>https://parisdata.opendatasoft.com/explore/dat...</td>\n",
       "      <td>2022-06-13T04:30:01+02:00</td>\n",
       "      <td>Prise type EF</td>\n",
       "      <td>48.871464</td>\n",
       "      <td>2.289894</td>\n",
       "    </tr>\n",
       "    <tr>\n",
       "      <th>...</th>\n",
       "      <td>...</td>\n",
       "      <td>...</td>\n",
       "      <td>...</td>\n",
       "      <td>...</td>\n",
       "      <td>...</td>\n",
       "      <td>...</td>\n",
       "      <td>...</td>\n",
       "      <td>...</td>\n",
       "      <td>...</td>\n",
       "      <td>...</td>\n",
       "      <td>...</td>\n",
       "      <td>...</td>\n",
       "      <td>...</td>\n",
       "      <td>...</td>\n",
       "      <td>...</td>\n",
       "      <td>...</td>\n",
       "      <td>...</td>\n",
       "      <td>...</td>\n",
       "      <td>...</td>\n",
       "      <td>...</td>\n",
       "      <td>...</td>\n",
       "    </tr>\n",
       "    <tr>\n",
       "      <th>2068</th>\n",
       "      <td>FR*V75*EPX19*16*4</td>\n",
       "      <td>En service</td>\n",
       "      <td>19e Arrondissement</td>\n",
       "      <td>FR*V75*PPX19*16</td>\n",
       "      <td>FRV75PPX1916</td>\n",
       "      <td>Paris | Rue Manin 1</td>\n",
       "      <td>75119.0</td>\n",
       "      <td>Voirie</td>\n",
       "      <td>4</td>\n",
       "      <td>2021-09-23</td>\n",
       "      <td>...</td>\n",
       "      <td>aucune restriction</td>\n",
       "      <td>False</td>\n",
       "      <td>7.0</td>\n",
       "      <td>24/7</td>\n",
       "      <td>Disponible</td>\n",
       "      <td>https://parisdata.opendatasoft.com/explore/dat...</td>\n",
       "      <td>2022-12-02T14:39:06+01:00</td>\n",
       "      <td>Prise type EF</td>\n",
       "      <td>48.876600</td>\n",
       "      <td>2.379018</td>\n",
       "    </tr>\n",
       "    <tr>\n",
       "      <th>2069</th>\n",
       "      <td>FR*V75*EPX13*21*2</td>\n",
       "      <td>En service</td>\n",
       "      <td>13e Arrondissement</td>\n",
       "      <td>FR*V75*PPX13*21</td>\n",
       "      <td>FRV75PPX1321</td>\n",
       "      <td>Paris | Avenue D'Ivry 58</td>\n",
       "      <td>75113.0</td>\n",
       "      <td>Voirie</td>\n",
       "      <td>5</td>\n",
       "      <td>2021-12-29</td>\n",
       "      <td>...</td>\n",
       "      <td>aucune restriction</td>\n",
       "      <td>False</td>\n",
       "      <td>7.0</td>\n",
       "      <td>24/7</td>\n",
       "      <td>Disponible</td>\n",
       "      <td>https://parisdata.opendatasoft.com/explore/dat...</td>\n",
       "      <td>2022-12-02T15:00:02+01:00</td>\n",
       "      <td>Prise type EF</td>\n",
       "      <td>48.824066</td>\n",
       "      <td>2.364308</td>\n",
       "    </tr>\n",
       "    <tr>\n",
       "      <th>2070</th>\n",
       "      <td>FR*V75*EPX13*21*3</td>\n",
       "      <td>En service</td>\n",
       "      <td>13e Arrondissement</td>\n",
       "      <td>FR*V75*PPX13*21</td>\n",
       "      <td>FRV75PPX1321</td>\n",
       "      <td>Paris | Avenue D'Ivry 58</td>\n",
       "      <td>75113.0</td>\n",
       "      <td>Voirie</td>\n",
       "      <td>5</td>\n",
       "      <td>2021-12-29</td>\n",
       "      <td>...</td>\n",
       "      <td>aucune restriction</td>\n",
       "      <td>False</td>\n",
       "      <td>7.0</td>\n",
       "      <td>24/7</td>\n",
       "      <td>Occupé (en charge)</td>\n",
       "      <td>https://parisdata.opendatasoft.com/explore/dat...</td>\n",
       "      <td>2022-12-02T15:01:05+01:00</td>\n",
       "      <td>Prise type EF</td>\n",
       "      <td>48.824066</td>\n",
       "      <td>2.364308</td>\n",
       "    </tr>\n",
       "    <tr>\n",
       "      <th>2071</th>\n",
       "      <td>FR*V75*EHBSAE*PDA*02*1</td>\n",
       "      <td>En service</td>\n",
       "      <td>16e Arrondissement</td>\n",
       "      <td>FR*V75*PHBSAE*PDA</td>\n",
       "      <td>FRV75PHBSAEPDA</td>\n",
       "      <td>Paris | SAEMES Parking Porte d'Auteuil</td>\n",
       "      <td>75116.0</td>\n",
       "      <td>Parking public</td>\n",
       "      <td>15</td>\n",
       "      <td>2022-08-19</td>\n",
       "      <td>...</td>\n",
       "      <td>aucune restriction</td>\n",
       "      <td>False</td>\n",
       "      <td>43.0</td>\n",
       "      <td>24/7</td>\n",
       "      <td>Occupé (en charge)</td>\n",
       "      <td>https://parisdata.opendatasoft.com/explore/dat...</td>\n",
       "      <td>2022-12-02T15:06:06+01:00</td>\n",
       "      <td>Prise type 2</td>\n",
       "      <td>48.846973</td>\n",
       "      <td>2.255839</td>\n",
       "    </tr>\n",
       "    <tr>\n",
       "      <th>2072</th>\n",
       "      <td>FR*V75*EHBSAE*PDA*03*1</td>\n",
       "      <td>En service</td>\n",
       "      <td>16e Arrondissement</td>\n",
       "      <td>FR*V75*PHBSAE*PDA</td>\n",
       "      <td>FRV75PHBSAEPDA</td>\n",
       "      <td>Paris | SAEMES Parking Porte d'Auteuil</td>\n",
       "      <td>75116.0</td>\n",
       "      <td>Parking public</td>\n",
       "      <td>15</td>\n",
       "      <td>2022-08-19</td>\n",
       "      <td>...</td>\n",
       "      <td>aucune restriction</td>\n",
       "      <td>False</td>\n",
       "      <td>43.0</td>\n",
       "      <td>24/7</td>\n",
       "      <td>Disponible</td>\n",
       "      <td>https://parisdata.opendatasoft.com/explore/dat...</td>\n",
       "      <td>2022-12-02T15:09:48+01:00</td>\n",
       "      <td>Prise type 2</td>\n",
       "      <td>48.846973</td>\n",
       "      <td>2.255839</td>\n",
       "    </tr>\n",
       "  </tbody>\n",
       "</table>\n",
       "<p>2073 rows × 26 columns</p>\n",
       "</div>"
      ],
      "text/plain": [
       "              ID PDC local_x Statut du Point de charge    Arrondissement_x  \\\n",
       "0          FR*V75*E9006*02*3                En service  06e Arrondissement   \n",
       "1          FR*V75*E9009*01*2                En service  09e Arrondissement   \n",
       "2          FR*V75*E9013*04*1                En service  13e Arrondissement   \n",
       "3          FR*V75*E9014*03*3                En service  14e Arrondissement   \n",
       "4          FR*V75*E9016*06*1                En service  16e Arrondissement   \n",
       "...                      ...                       ...                 ...   \n",
       "2068       FR*V75*EPX19*16*4                En service  19e Arrondissement   \n",
       "2069       FR*V75*EPX13*21*2                En service  13e Arrondissement   \n",
       "2070       FR*V75*EPX13*21*3                En service  13e Arrondissement   \n",
       "2071  FR*V75*EHBSAE*PDA*02*1                En service  16e Arrondissement   \n",
       "2072  FR*V75*EHBSAE*PDA*03*1                En service  16e Arrondissement   \n",
       "\n",
       "       ID Station local ID Station itinérance  \\\n",
       "0       FR*V75*P9006*02          FRV75P900602   \n",
       "1       FR*V75*P9009*01          FRV75P900901   \n",
       "2       FR*V75*P9013*04          FRV75P901304   \n",
       "3       FR*V75*P9014*03          FRV75P901403   \n",
       "4       FR*V75*P9016*06          FRV75P901606   \n",
       "...                 ...                   ...   \n",
       "2068    FR*V75*PPX19*16          FRV75PPX1916   \n",
       "2069    FR*V75*PPX13*21          FRV75PPX1321   \n",
       "2070    FR*V75*PPX13*21          FRV75PPX1321   \n",
       "2071  FR*V75*PHBSAE*PDA        FRV75PHBSAEPDA   \n",
       "2072  FR*V75*PHBSAE*PDA        FRV75PHBSAEPDA   \n",
       "\n",
       "                                 Nom station  Code INSEE commune_x  \\\n",
       "0                  Paris | Rue de Medicis 11               75106.0   \n",
       "1             Paris | Boulevard de Clichy 31               75109.0   \n",
       "2         Paris | Rue de l'Amiral Mouchez 77               75113.0   \n",
       "3           Paris | Boulevard Edgar Quinet 9               75114.0   \n",
       "4              Paris | Avenue Victor Hugo 45               75116.0   \n",
       "...                                      ...                   ...   \n",
       "2068                     Paris | Rue Manin 1               75119.0   \n",
       "2069                Paris | Avenue D'Ivry 58               75113.0   \n",
       "2070                Paris | Avenue D'Ivry 58               75113.0   \n",
       "2071  Paris | SAEMES Parking Porte d'Auteuil               75116.0   \n",
       "2072  Paris | SAEMES Parking Porte d'Auteuil               75116.0   \n",
       "\n",
       "     Type implantation  Nombre point de recharge Date mise à jour  ...  \\\n",
       "0               Voirie                         3       2021-09-23  ...   \n",
       "1               Voirie                         3       2021-09-23  ...   \n",
       "2               Voirie                         3       2021-09-23  ...   \n",
       "3               Voirie                         3       2021-09-23  ...   \n",
       "4               Voirie                         3       2021-09-23  ...   \n",
       "...                ...                       ...              ...  ...   \n",
       "2068            Voirie                         4       2021-09-23  ...   \n",
       "2069            Voirie                         5       2021-12-29  ...   \n",
       "2070            Voirie                         5       2021-12-29  ...   \n",
       "2071    Parking public                        15       2022-08-19  ...   \n",
       "2072    Parking public                        15       2022-08-19  ...   \n",
       "\n",
       "     Restriction gabarit Stationnement 2 roues  Puissance max KW Horaires  \\\n",
       "0     aucune restriction                 False              22.0     24/7   \n",
       "1     aucune restriction                 False               4.0     24/7   \n",
       "2     aucune restriction                 False              22.0     24/7   \n",
       "3     aucune restriction                 False              22.0     24/7   \n",
       "4     aucune restriction                 False              22.0     24/7   \n",
       "...                  ...                   ...               ...      ...   \n",
       "2068  aucune restriction                 False               7.0     24/7   \n",
       "2069  aucune restriction                 False               7.0     24/7   \n",
       "2070  aucune restriction                 False               7.0     24/7   \n",
       "2071  aucune restriction                 False              43.0     24/7   \n",
       "2072  aucune restriction                 False              43.0     24/7   \n",
       "\n",
       "     Statut du point de recharge  \\\n",
       "0                 En maintenance   \n",
       "1                        Inconnu   \n",
       "2                 En maintenance   \n",
       "3                 En maintenance   \n",
       "4                     Disponible   \n",
       "...                          ...   \n",
       "2068                  Disponible   \n",
       "2069                  Disponible   \n",
       "2070          Occupé (en charge)   \n",
       "2071          Occupé (en charge)   \n",
       "2072                  Disponible   \n",
       "\n",
       "                        URL Description Point de charge  \\\n",
       "0     https://parisdata.opendatasoft.com/explore/dat...   \n",
       "1     https://parisdata.opendatasoft.com/explore/dat...   \n",
       "2     https://parisdata.opendatasoft.com/explore/dat...   \n",
       "3     https://parisdata.opendatasoft.com/explore/dat...   \n",
       "4     https://parisdata.opendatasoft.com/explore/dat...   \n",
       "...                                                 ...   \n",
       "2068  https://parisdata.opendatasoft.com/explore/dat...   \n",
       "2069  https://parisdata.opendatasoft.com/explore/dat...   \n",
       "2070  https://parisdata.opendatasoft.com/explore/dat...   \n",
       "2071  https://parisdata.opendatasoft.com/explore/dat...   \n",
       "2072  https://parisdata.opendatasoft.com/explore/dat...   \n",
       "\n",
       "              Heure mise à jour  Type de chargeur   latitude longitude  \n",
       "0     2022-06-13T04:30:01+02:00     Prise type EF  48.848240  2.339865  \n",
       "1     2022-06-13T04:30:01+02:00     Prise type EF  48.882640  2.335728  \n",
       "2     2022-06-13T04:30:01+02:00     Prise type EF  48.820850  2.343626  \n",
       "3     2022-06-13T04:30:01+02:00     Prise type EF  48.841198  2.323891  \n",
       "4     2022-06-13T04:30:01+02:00     Prise type EF  48.871464  2.289894  \n",
       "...                         ...               ...        ...       ...  \n",
       "2068  2022-12-02T14:39:06+01:00     Prise type EF  48.876600  2.379018  \n",
       "2069  2022-12-02T15:00:02+01:00     Prise type EF  48.824066  2.364308  \n",
       "2070  2022-12-02T15:01:05+01:00     Prise type EF  48.824066  2.364308  \n",
       "2071  2022-12-02T15:06:06+01:00      Prise type 2  48.846973  2.255839  \n",
       "2072  2022-12-02T15:09:48+01:00      Prise type 2  48.846973  2.255839  \n",
       "\n",
       "[2073 rows x 26 columns]"
      ]
     },
     "execution_count": 236,
     "metadata": {},
     "output_type": "execute_result"
    }
   ],
   "source": [
    "data"
   ]
  },
  {
   "cell_type": "code",
   "execution_count": 237,
   "metadata": {},
   "outputs": [
    {
     "data": {
      "text/html": [
       "<div>\n",
       "<style scoped>\n",
       "    .dataframe tbody tr th:only-of-type {\n",
       "        vertical-align: middle;\n",
       "    }\n",
       "\n",
       "    .dataframe tbody tr th {\n",
       "        vertical-align: top;\n",
       "    }\n",
       "\n",
       "    .dataframe thead th {\n",
       "        text-align: right;\n",
       "    }\n",
       "</style>\n",
       "<table border=\"1\" class=\"dataframe\">\n",
       "  <thead>\n",
       "    <tr style=\"text-align: right;\">\n",
       "      <th></th>\n",
       "      <th>Code INSEE commune_x</th>\n",
       "      <th>Nombre point de recharge</th>\n",
       "      <th>Paiement CB</th>\n",
       "      <th>Stationnement 2 roues</th>\n",
       "      <th>Puissance max KW</th>\n",
       "      <th>latitude</th>\n",
       "      <th>longitude</th>\n",
       "    </tr>\n",
       "  </thead>\n",
       "  <tbody>\n",
       "    <tr>\n",
       "      <th>Code INSEE commune_x</th>\n",
       "      <td>1.000000</td>\n",
       "      <td>-0.020694</td>\n",
       "      <td>-0.000739</td>\n",
       "      <td>-0.018014</td>\n",
       "      <td>-0.070909</td>\n",
       "      <td>0.202467</td>\n",
       "      <td>-0.021397</td>\n",
       "    </tr>\n",
       "    <tr>\n",
       "      <th>Nombre point de recharge</th>\n",
       "      <td>-0.020694</td>\n",
       "      <td>1.000000</td>\n",
       "      <td>0.444837</td>\n",
       "      <td>0.080016</td>\n",
       "      <td>0.415154</td>\n",
       "      <td>-0.017996</td>\n",
       "      <td>-0.055801</td>\n",
       "    </tr>\n",
       "    <tr>\n",
       "      <th>Paiement CB</th>\n",
       "      <td>-0.000739</td>\n",
       "      <td>0.444837</td>\n",
       "      <td>1.000000</td>\n",
       "      <td>0.081530</td>\n",
       "      <td>-0.409386</td>\n",
       "      <td>0.025623</td>\n",
       "      <td>-0.029512</td>\n",
       "    </tr>\n",
       "    <tr>\n",
       "      <th>Stationnement 2 roues</th>\n",
       "      <td>-0.018014</td>\n",
       "      <td>0.080016</td>\n",
       "      <td>0.081530</td>\n",
       "      <td>1.000000</td>\n",
       "      <td>-0.174102</td>\n",
       "      <td>-0.000446</td>\n",
       "      <td>0.006953</td>\n",
       "    </tr>\n",
       "    <tr>\n",
       "      <th>Puissance max KW</th>\n",
       "      <td>-0.070909</td>\n",
       "      <td>0.415154</td>\n",
       "      <td>-0.409386</td>\n",
       "      <td>-0.174102</td>\n",
       "      <td>1.000000</td>\n",
       "      <td>-0.042938</td>\n",
       "      <td>-0.052383</td>\n",
       "    </tr>\n",
       "    <tr>\n",
       "      <th>latitude</th>\n",
       "      <td>0.202467</td>\n",
       "      <td>-0.017996</td>\n",
       "      <td>0.025623</td>\n",
       "      <td>-0.000446</td>\n",
       "      <td>-0.042938</td>\n",
       "      <td>1.000000</td>\n",
       "      <td>0.033068</td>\n",
       "    </tr>\n",
       "    <tr>\n",
       "      <th>longitude</th>\n",
       "      <td>-0.021397</td>\n",
       "      <td>-0.055801</td>\n",
       "      <td>-0.029512</td>\n",
       "      <td>0.006953</td>\n",
       "      <td>-0.052383</td>\n",
       "      <td>0.033068</td>\n",
       "      <td>1.000000</td>\n",
       "    </tr>\n",
       "  </tbody>\n",
       "</table>\n",
       "</div>"
      ],
      "text/plain": [
       "                          Code INSEE commune_x  Nombre point de recharge  \\\n",
       "Code INSEE commune_x                  1.000000                 -0.020694   \n",
       "Nombre point de recharge             -0.020694                  1.000000   \n",
       "Paiement CB                          -0.000739                  0.444837   \n",
       "Stationnement 2 roues                -0.018014                  0.080016   \n",
       "Puissance max KW                     -0.070909                  0.415154   \n",
       "latitude                              0.202467                 -0.017996   \n",
       "longitude                            -0.021397                 -0.055801   \n",
       "\n",
       "                          Paiement CB  Stationnement 2 roues  \\\n",
       "Code INSEE commune_x        -0.000739              -0.018014   \n",
       "Nombre point de recharge     0.444837               0.080016   \n",
       "Paiement CB                  1.000000               0.081530   \n",
       "Stationnement 2 roues        0.081530               1.000000   \n",
       "Puissance max KW            -0.409386              -0.174102   \n",
       "latitude                     0.025623              -0.000446   \n",
       "longitude                   -0.029512               0.006953   \n",
       "\n",
       "                          Puissance max KW  latitude  longitude  \n",
       "Code INSEE commune_x             -0.070909  0.202467  -0.021397  \n",
       "Nombre point de recharge          0.415154 -0.017996  -0.055801  \n",
       "Paiement CB                      -0.409386  0.025623  -0.029512  \n",
       "Stationnement 2 roues            -0.174102 -0.000446   0.006953  \n",
       "Puissance max KW                  1.000000 -0.042938  -0.052383  \n",
       "latitude                         -0.042938  1.000000   0.033068  \n",
       "longitude                        -0.052383  0.033068   1.000000  "
      ]
     },
     "execution_count": 237,
     "metadata": {},
     "output_type": "execute_result"
    }
   ],
   "source": [
    "data.corr()"
   ]
  },
  {
   "cell_type": "code",
   "execution_count": 238,
   "metadata": {},
   "outputs": [],
   "source": [
    "data['Date mise en service'].replace('unknown',np.nan, inplace=True)"
   ]
  },
  {
   "cell_type": "code",
   "execution_count": 239,
   "metadata": {},
   "outputs": [],
   "source": [
    "data.dropna(inplace=True)"
   ]
  },
  {
   "cell_type": "code",
   "execution_count": 240,
   "metadata": {},
   "outputs": [],
   "source": [
    "data['Date mise en service']=pd.to_datetime(data['Date mise en service'], format='%Y/%m/%d')"
   ]
  },
  {
   "cell_type": "markdown",
   "metadata": {},
   "source": [
    "Dropping columns with low variance and non relevant infos"
   ]
  },
  {
   "cell_type": "code",
   "execution_count": 241,
   "metadata": {},
   "outputs": [
    {
     "data": {
      "text/plain": [
       "Index(['ID PDC local_x', 'Statut du Point de charge', 'Arrondissement_x',\n",
       "       'ID Station local', 'ID Station itinérance', 'Nom station',\n",
       "       'Code INSEE commune_x', 'Type implantation', 'Nombre point de recharge',\n",
       "       'Date mise à jour', 'Conditions d'accès', 'Adresse station_x',\n",
       "       'Paiement CB', 'Tarification', 'Date mise en service',\n",
       "       'Accessibilité PMR', 'Restriction gabarit', 'Stationnement 2 roues',\n",
       "       'Puissance max KW', 'Horaires', 'Statut du point de recharge',\n",
       "       'URL Description Point de charge', 'Heure mise à jour',\n",
       "       'Type de chargeur', 'latitude', 'longitude'],\n",
       "      dtype='object')"
      ]
     },
     "execution_count": 241,
     "metadata": {},
     "output_type": "execute_result"
    }
   ],
   "source": [
    "data.columns"
   ]
  },
  {
   "cell_type": "code",
   "execution_count": 242,
   "metadata": {},
   "outputs": [
    {
     "data": {
      "text/plain": [
       "Disponible            1231\n",
       "Occupé (en charge)     703\n",
       "Inconnu                 71\n",
       "En maintenance          27\n",
       "Name: Statut du point de recharge, dtype: int64"
      ]
     },
     "execution_count": 242,
     "metadata": {},
     "output_type": "execute_result"
    }
   ],
   "source": [
    "data['Statut du point de recharge'].value_counts()"
   ]
  },
  {
   "cell_type": "code",
   "execution_count": 243,
   "metadata": {},
   "outputs": [
    {
     "data": {
      "text/plain": [
       "array(['En maintenance', 'Inconnu', 'Disponible', 'Occupé (en charge)'],\n",
       "      dtype=object)"
      ]
     },
     "execution_count": 243,
     "metadata": {},
     "output_type": "execute_result"
    }
   ],
   "source": [
    "data['Statut du point de recharge'].unique()"
   ]
  },
  {
   "cell_type": "code",
   "execution_count": 244,
   "metadata": {},
   "outputs": [],
   "source": [
    "data['Statut du point de recharge'].replace('Inconnu','Occupé (en charge)' , inplace=True)\n",
    "data['Statut du point de recharge'].replace('En maintenance', 'Occupé (en charge)', inplace=True)"
   ]
  },
  {
   "cell_type": "code",
   "execution_count": 245,
   "metadata": {},
   "outputs": [],
   "source": [
    "data.drop(columns=['ID PDC local_x', 'Statut du Point de charge',\n",
    "       'ID Station local', 'ID Station itinérance', 'Nom station',\n",
    "       \n",
    "       'Date mise à jour', 'Conditions d\\'accès', 'Adresse station_x',\n",
    "        'Tarification', 'Date mise en service',\n",
    "       \n",
    "       'Horaires',\n",
    "       'URL Description Point de charge', 'Heure mise à jour'], axis=1,inplace=True)"
   ]
  },
  {
   "cell_type": "code",
   "execution_count": 246,
   "metadata": {},
   "outputs": [
    {
     "data": {
      "text/plain": [
       "Arrondissement_x                object\n",
       "Code INSEE commune_x           float64\n",
       "Type implantation               object\n",
       "Nombre point de recharge         int64\n",
       "Paiement CB                       bool\n",
       "Accessibilité PMR               object\n",
       "Restriction gabarit             object\n",
       "Stationnement 2 roues             bool\n",
       "Puissance max KW               float64\n",
       "Statut du point de recharge     object\n",
       "Type de chargeur                object\n",
       "latitude                       float64\n",
       "longitude                      float64\n",
       "dtype: object"
      ]
     },
     "execution_count": 246,
     "metadata": {},
     "output_type": "execute_result"
    }
   ],
   "source": [
    "data.dtypes"
   ]
  },
  {
   "cell_type": "code",
   "execution_count": 247,
   "metadata": {},
   "outputs": [],
   "source": [
    "from sklearn.preprocessing import LabelEncoder\n",
    "encoder = LabelEncoder()\n",
    "\n",
    "data['Arrondissement_x_encode']=encoder.fit_transform(data['Arrondissement_x'])\n",
    "data['Type implantation_encode']=encoder.fit_transform(data['Type implantation'])\n",
    "data['Paiement CB_encode']=encoder.fit_transform(data['Paiement CB'])\n",
    "data['Accessibilité PMR_encode']=encoder.fit_transform(data['Accessibilité PMR'])\n",
    "data['Restriction gabarit_encode']=encoder.fit_transform(data['Restriction gabarit'])\n",
    "data['Stationnement 2 roues_encode']=encoder.fit_transform(data['Stationnement 2 roues'])\n",
    "data['Statut du point de recharge_encode']=encoder.fit_transform(data['Statut du point de recharge'])\n",
    "data['Type de chargeur_encode']=encoder.fit_transform(data['Type de chargeur'])"
   ]
  },
  {
   "cell_type": "code",
   "execution_count": 248,
   "metadata": {},
   "outputs": [
    {
     "data": {
      "text/html": [
       "<div>\n",
       "<style scoped>\n",
       "    .dataframe tbody tr th:only-of-type {\n",
       "        vertical-align: middle;\n",
       "    }\n",
       "\n",
       "    .dataframe tbody tr th {\n",
       "        vertical-align: top;\n",
       "    }\n",
       "\n",
       "    .dataframe thead th {\n",
       "        text-align: right;\n",
       "    }\n",
       "</style>\n",
       "<table border=\"1\" class=\"dataframe\">\n",
       "  <thead>\n",
       "    <tr style=\"text-align: right;\">\n",
       "      <th></th>\n",
       "      <th>Arrondissement_x</th>\n",
       "      <th>Code INSEE commune_x</th>\n",
       "      <th>Type implantation</th>\n",
       "      <th>Nombre point de recharge</th>\n",
       "      <th>Paiement CB</th>\n",
       "      <th>Accessibilité PMR</th>\n",
       "      <th>Restriction gabarit</th>\n",
       "      <th>Stationnement 2 roues</th>\n",
       "      <th>Puissance max KW</th>\n",
       "      <th>Statut du point de recharge</th>\n",
       "      <th>...</th>\n",
       "      <th>latitude</th>\n",
       "      <th>longitude</th>\n",
       "      <th>Arrondissement_x_encode</th>\n",
       "      <th>Type implantation_encode</th>\n",
       "      <th>Paiement CB_encode</th>\n",
       "      <th>Accessibilité PMR_encode</th>\n",
       "      <th>Restriction gabarit_encode</th>\n",
       "      <th>Stationnement 2 roues_encode</th>\n",
       "      <th>Statut du point de recharge_encode</th>\n",
       "      <th>Type de chargeur_encode</th>\n",
       "    </tr>\n",
       "  </thead>\n",
       "  <tbody>\n",
       "    <tr>\n",
       "      <th>0</th>\n",
       "      <td>06e Arrondissement</td>\n",
       "      <td>75106.0</td>\n",
       "      <td>Voirie</td>\n",
       "      <td>3</td>\n",
       "      <td>False</td>\n",
       "      <td>Non accessible</td>\n",
       "      <td>aucune restriction</td>\n",
       "      <td>False</td>\n",
       "      <td>22.0</td>\n",
       "      <td>Occupé (en charge)</td>\n",
       "      <td>...</td>\n",
       "      <td>48.848240</td>\n",
       "      <td>2.339865</td>\n",
       "      <td>1</td>\n",
       "      <td>1</td>\n",
       "      <td>0</td>\n",
       "      <td>0</td>\n",
       "      <td>1</td>\n",
       "      <td>0</td>\n",
       "      <td>1</td>\n",
       "      <td>3</td>\n",
       "    </tr>\n",
       "    <tr>\n",
       "      <th>1</th>\n",
       "      <td>09e Arrondissement</td>\n",
       "      <td>75109.0</td>\n",
       "      <td>Voirie</td>\n",
       "      <td>3</td>\n",
       "      <td>False</td>\n",
       "      <td>Non accessible</td>\n",
       "      <td>aucune restriction</td>\n",
       "      <td>False</td>\n",
       "      <td>4.0</td>\n",
       "      <td>Occupé (en charge)</td>\n",
       "      <td>...</td>\n",
       "      <td>48.882640</td>\n",
       "      <td>2.335728</td>\n",
       "      <td>4</td>\n",
       "      <td>1</td>\n",
       "      <td>0</td>\n",
       "      <td>0</td>\n",
       "      <td>1</td>\n",
       "      <td>0</td>\n",
       "      <td>1</td>\n",
       "      <td>3</td>\n",
       "    </tr>\n",
       "    <tr>\n",
       "      <th>2</th>\n",
       "      <td>13e Arrondissement</td>\n",
       "      <td>75113.0</td>\n",
       "      <td>Voirie</td>\n",
       "      <td>3</td>\n",
       "      <td>False</td>\n",
       "      <td>Non accessible</td>\n",
       "      <td>aucune restriction</td>\n",
       "      <td>False</td>\n",
       "      <td>22.0</td>\n",
       "      <td>Occupé (en charge)</td>\n",
       "      <td>...</td>\n",
       "      <td>48.820850</td>\n",
       "      <td>2.343626</td>\n",
       "      <td>8</td>\n",
       "      <td>1</td>\n",
       "      <td>0</td>\n",
       "      <td>0</td>\n",
       "      <td>1</td>\n",
       "      <td>0</td>\n",
       "      <td>1</td>\n",
       "      <td>3</td>\n",
       "    </tr>\n",
       "    <tr>\n",
       "      <th>3</th>\n",
       "      <td>14e Arrondissement</td>\n",
       "      <td>75114.0</td>\n",
       "      <td>Voirie</td>\n",
       "      <td>3</td>\n",
       "      <td>False</td>\n",
       "      <td>Non accessible</td>\n",
       "      <td>aucune restriction</td>\n",
       "      <td>False</td>\n",
       "      <td>22.0</td>\n",
       "      <td>Occupé (en charge)</td>\n",
       "      <td>...</td>\n",
       "      <td>48.841198</td>\n",
       "      <td>2.323891</td>\n",
       "      <td>9</td>\n",
       "      <td>1</td>\n",
       "      <td>0</td>\n",
       "      <td>0</td>\n",
       "      <td>1</td>\n",
       "      <td>0</td>\n",
       "      <td>1</td>\n",
       "      <td>3</td>\n",
       "    </tr>\n",
       "    <tr>\n",
       "      <th>4</th>\n",
       "      <td>16e Arrondissement</td>\n",
       "      <td>75116.0</td>\n",
       "      <td>Voirie</td>\n",
       "      <td>3</td>\n",
       "      <td>False</td>\n",
       "      <td>Non accessible</td>\n",
       "      <td>aucune restriction</td>\n",
       "      <td>False</td>\n",
       "      <td>22.0</td>\n",
       "      <td>Disponible</td>\n",
       "      <td>...</td>\n",
       "      <td>48.871464</td>\n",
       "      <td>2.289894</td>\n",
       "      <td>11</td>\n",
       "      <td>1</td>\n",
       "      <td>0</td>\n",
       "      <td>0</td>\n",
       "      <td>1</td>\n",
       "      <td>0</td>\n",
       "      <td>0</td>\n",
       "      <td>3</td>\n",
       "    </tr>\n",
       "    <tr>\n",
       "      <th>...</th>\n",
       "      <td>...</td>\n",
       "      <td>...</td>\n",
       "      <td>...</td>\n",
       "      <td>...</td>\n",
       "      <td>...</td>\n",
       "      <td>...</td>\n",
       "      <td>...</td>\n",
       "      <td>...</td>\n",
       "      <td>...</td>\n",
       "      <td>...</td>\n",
       "      <td>...</td>\n",
       "      <td>...</td>\n",
       "      <td>...</td>\n",
       "      <td>...</td>\n",
       "      <td>...</td>\n",
       "      <td>...</td>\n",
       "      <td>...</td>\n",
       "      <td>...</td>\n",
       "      <td>...</td>\n",
       "      <td>...</td>\n",
       "      <td>...</td>\n",
       "    </tr>\n",
       "    <tr>\n",
       "      <th>2068</th>\n",
       "      <td>19e Arrondissement</td>\n",
       "      <td>75119.0</td>\n",
       "      <td>Voirie</td>\n",
       "      <td>4</td>\n",
       "      <td>True</td>\n",
       "      <td>Non accessible</td>\n",
       "      <td>aucune restriction</td>\n",
       "      <td>False</td>\n",
       "      <td>7.0</td>\n",
       "      <td>Disponible</td>\n",
       "      <td>...</td>\n",
       "      <td>48.876600</td>\n",
       "      <td>2.379018</td>\n",
       "      <td>14</td>\n",
       "      <td>1</td>\n",
       "      <td>1</td>\n",
       "      <td>0</td>\n",
       "      <td>1</td>\n",
       "      <td>0</td>\n",
       "      <td>0</td>\n",
       "      <td>3</td>\n",
       "    </tr>\n",
       "    <tr>\n",
       "      <th>2069</th>\n",
       "      <td>13e Arrondissement</td>\n",
       "      <td>75113.0</td>\n",
       "      <td>Voirie</td>\n",
       "      <td>5</td>\n",
       "      <td>True</td>\n",
       "      <td>Non accessible</td>\n",
       "      <td>aucune restriction</td>\n",
       "      <td>False</td>\n",
       "      <td>7.0</td>\n",
       "      <td>Disponible</td>\n",
       "      <td>...</td>\n",
       "      <td>48.824066</td>\n",
       "      <td>2.364308</td>\n",
       "      <td>8</td>\n",
       "      <td>1</td>\n",
       "      <td>1</td>\n",
       "      <td>0</td>\n",
       "      <td>1</td>\n",
       "      <td>0</td>\n",
       "      <td>0</td>\n",
       "      <td>3</td>\n",
       "    </tr>\n",
       "    <tr>\n",
       "      <th>2070</th>\n",
       "      <td>13e Arrondissement</td>\n",
       "      <td>75113.0</td>\n",
       "      <td>Voirie</td>\n",
       "      <td>5</td>\n",
       "      <td>True</td>\n",
       "      <td>Non accessible</td>\n",
       "      <td>aucune restriction</td>\n",
       "      <td>False</td>\n",
       "      <td>7.0</td>\n",
       "      <td>Occupé (en charge)</td>\n",
       "      <td>...</td>\n",
       "      <td>48.824066</td>\n",
       "      <td>2.364308</td>\n",
       "      <td>8</td>\n",
       "      <td>1</td>\n",
       "      <td>1</td>\n",
       "      <td>0</td>\n",
       "      <td>1</td>\n",
       "      <td>0</td>\n",
       "      <td>1</td>\n",
       "      <td>3</td>\n",
       "    </tr>\n",
       "    <tr>\n",
       "      <th>2071</th>\n",
       "      <td>16e Arrondissement</td>\n",
       "      <td>75116.0</td>\n",
       "      <td>Parking public</td>\n",
       "      <td>15</td>\n",
       "      <td>True</td>\n",
       "      <td>Non accessible</td>\n",
       "      <td>aucune restriction</td>\n",
       "      <td>False</td>\n",
       "      <td>43.0</td>\n",
       "      <td>Occupé (en charge)</td>\n",
       "      <td>...</td>\n",
       "      <td>48.846973</td>\n",
       "      <td>2.255839</td>\n",
       "      <td>11</td>\n",
       "      <td>0</td>\n",
       "      <td>1</td>\n",
       "      <td>0</td>\n",
       "      <td>1</td>\n",
       "      <td>0</td>\n",
       "      <td>1</td>\n",
       "      <td>0</td>\n",
       "    </tr>\n",
       "    <tr>\n",
       "      <th>2072</th>\n",
       "      <td>16e Arrondissement</td>\n",
       "      <td>75116.0</td>\n",
       "      <td>Parking public</td>\n",
       "      <td>15</td>\n",
       "      <td>True</td>\n",
       "      <td>Non accessible</td>\n",
       "      <td>aucune restriction</td>\n",
       "      <td>False</td>\n",
       "      <td>43.0</td>\n",
       "      <td>Disponible</td>\n",
       "      <td>...</td>\n",
       "      <td>48.846973</td>\n",
       "      <td>2.255839</td>\n",
       "      <td>11</td>\n",
       "      <td>0</td>\n",
       "      <td>1</td>\n",
       "      <td>0</td>\n",
       "      <td>1</td>\n",
       "      <td>0</td>\n",
       "      <td>0</td>\n",
       "      <td>0</td>\n",
       "    </tr>\n",
       "  </tbody>\n",
       "</table>\n",
       "<p>2032 rows × 21 columns</p>\n",
       "</div>"
      ],
      "text/plain": [
       "        Arrondissement_x  Code INSEE commune_x Type implantation  \\\n",
       "0     06e Arrondissement               75106.0            Voirie   \n",
       "1     09e Arrondissement               75109.0            Voirie   \n",
       "2     13e Arrondissement               75113.0            Voirie   \n",
       "3     14e Arrondissement               75114.0            Voirie   \n",
       "4     16e Arrondissement               75116.0            Voirie   \n",
       "...                  ...                   ...               ...   \n",
       "2068  19e Arrondissement               75119.0            Voirie   \n",
       "2069  13e Arrondissement               75113.0            Voirie   \n",
       "2070  13e Arrondissement               75113.0            Voirie   \n",
       "2071  16e Arrondissement               75116.0    Parking public   \n",
       "2072  16e Arrondissement               75116.0    Parking public   \n",
       "\n",
       "      Nombre point de recharge  Paiement CB Accessibilité PMR  \\\n",
       "0                            3        False    Non accessible   \n",
       "1                            3        False    Non accessible   \n",
       "2                            3        False    Non accessible   \n",
       "3                            3        False    Non accessible   \n",
       "4                            3        False    Non accessible   \n",
       "...                        ...          ...               ...   \n",
       "2068                         4         True    Non accessible   \n",
       "2069                         5         True    Non accessible   \n",
       "2070                         5         True    Non accessible   \n",
       "2071                        15         True    Non accessible   \n",
       "2072                        15         True    Non accessible   \n",
       "\n",
       "     Restriction gabarit  Stationnement 2 roues  Puissance max KW  \\\n",
       "0     aucune restriction                  False              22.0   \n",
       "1     aucune restriction                  False               4.0   \n",
       "2     aucune restriction                  False              22.0   \n",
       "3     aucune restriction                  False              22.0   \n",
       "4     aucune restriction                  False              22.0   \n",
       "...                  ...                    ...               ...   \n",
       "2068  aucune restriction                  False               7.0   \n",
       "2069  aucune restriction                  False               7.0   \n",
       "2070  aucune restriction                  False               7.0   \n",
       "2071  aucune restriction                  False              43.0   \n",
       "2072  aucune restriction                  False              43.0   \n",
       "\n",
       "     Statut du point de recharge  ...   latitude  longitude  \\\n",
       "0             Occupé (en charge)  ...  48.848240   2.339865   \n",
       "1             Occupé (en charge)  ...  48.882640   2.335728   \n",
       "2             Occupé (en charge)  ...  48.820850   2.343626   \n",
       "3             Occupé (en charge)  ...  48.841198   2.323891   \n",
       "4                     Disponible  ...  48.871464   2.289894   \n",
       "...                          ...  ...        ...        ...   \n",
       "2068                  Disponible  ...  48.876600   2.379018   \n",
       "2069                  Disponible  ...  48.824066   2.364308   \n",
       "2070          Occupé (en charge)  ...  48.824066   2.364308   \n",
       "2071          Occupé (en charge)  ...  48.846973   2.255839   \n",
       "2072                  Disponible  ...  48.846973   2.255839   \n",
       "\n",
       "      Arrondissement_x_encode  Type implantation_encode  Paiement CB_encode  \\\n",
       "0                           1                         1                   0   \n",
       "1                           4                         1                   0   \n",
       "2                           8                         1                   0   \n",
       "3                           9                         1                   0   \n",
       "4                          11                         1                   0   \n",
       "...                       ...                       ...                 ...   \n",
       "2068                       14                         1                   1   \n",
       "2069                        8                         1                   1   \n",
       "2070                        8                         1                   1   \n",
       "2071                       11                         0                   1   \n",
       "2072                       11                         0                   1   \n",
       "\n",
       "      Accessibilité PMR_encode  Restriction gabarit_encode  \\\n",
       "0                            0                           1   \n",
       "1                            0                           1   \n",
       "2                            0                           1   \n",
       "3                            0                           1   \n",
       "4                            0                           1   \n",
       "...                        ...                         ...   \n",
       "2068                         0                           1   \n",
       "2069                         0                           1   \n",
       "2070                         0                           1   \n",
       "2071                         0                           1   \n",
       "2072                         0                           1   \n",
       "\n",
       "      Stationnement 2 roues_encode  Statut du point de recharge_encode  \\\n",
       "0                                0                                   1   \n",
       "1                                0                                   1   \n",
       "2                                0                                   1   \n",
       "3                                0                                   1   \n",
       "4                                0                                   0   \n",
       "...                            ...                                 ...   \n",
       "2068                             0                                   0   \n",
       "2069                             0                                   0   \n",
       "2070                             0                                   1   \n",
       "2071                             0                                   1   \n",
       "2072                             0                                   0   \n",
       "\n",
       "      Type de chargeur_encode  \n",
       "0                           3  \n",
       "1                           3  \n",
       "2                           3  \n",
       "3                           3  \n",
       "4                           3  \n",
       "...                       ...  \n",
       "2068                        3  \n",
       "2069                        3  \n",
       "2070                        3  \n",
       "2071                        0  \n",
       "2072                        0  \n",
       "\n",
       "[2032 rows x 21 columns]"
      ]
     },
     "execution_count": 248,
     "metadata": {},
     "output_type": "execute_result"
    }
   ],
   "source": [
    "data"
   ]
  },
  {
   "cell_type": "markdown",
   "metadata": {},
   "source": [
    "### The KNN Algorithm"
   ]
  },
  {
   "cell_type": "markdown",
   "metadata": {},
   "source": [
    "### Features Selection"
   ]
  },
  {
   "cell_type": "code",
   "execution_count": 249,
   "metadata": {},
   "outputs": [],
   "source": [
    "\n",
    "data['Arrondissement_x_encode']=encoder.fit_transform(data['Arrondissement_x'])\n",
    "data['Type implantation_encode']=encoder.fit_transform(data['Type implantation'])\n",
    "data['Accessibilité PMR_encode']=encoder.fit_transform(data['Accessibilité PMR'])\n",
    "data['Stationnement 2 roues_encode']=encoder.fit_transform(data['Stationnement 2 roues'])\n",
    "data['Statut du point de recharge_encode']=encoder.fit_transform(data['Statut du point de recharge'])\n",
    "data['Type de chargeur_encode']=encoder.fit_transform(data['Type de chargeur'])"
   ]
  },
  {
   "cell_type": "code",
   "execution_count": 250,
   "metadata": {},
   "outputs": [
    {
     "data": {
      "text/plain": [
       "Arrondissement_x                       object\n",
       "Code INSEE commune_x                  float64\n",
       "Type implantation                      object\n",
       "Nombre point de recharge                int64\n",
       "Paiement CB                              bool\n",
       "Accessibilité PMR                      object\n",
       "Restriction gabarit                    object\n",
       "Stationnement 2 roues                    bool\n",
       "Puissance max KW                      float64\n",
       "Statut du point de recharge            object\n",
       "Type de chargeur                       object\n",
       "latitude                              float64\n",
       "longitude                             float64\n",
       "Arrondissement_x_encode                 int32\n",
       "Type implantation_encode                int32\n",
       "Paiement CB_encode                      int64\n",
       "Accessibilité PMR_encode                int32\n",
       "Restriction gabarit_encode              int32\n",
       "Stationnement 2 roues_encode            int64\n",
       "Statut du point de recharge_encode      int32\n",
       "Type de chargeur_encode                 int32\n",
       "dtype: object"
      ]
     },
     "execution_count": 250,
     "metadata": {},
     "output_type": "execute_result"
    }
   ],
   "source": [
    "data.dtypes"
   ]
  },
  {
   "cell_type": "code",
   "execution_count": 251,
   "metadata": {},
   "outputs": [
    {
     "name": "stdout",
     "output_type": "stream",
     "text": [
      "(2032, 12)\n",
      "(2032,)\n"
     ]
    }
   ],
   "source": [
    "X = data.drop(['Statut du point de recharge_encode','Statut du point de recharge','Arrondissement_x','Type implantation','Paiement CB','Accessibilité PMR', 'Restriction gabarit', 'Stationnement 2 roues','Statut du point de recharge','Type de chargeur'], axis=1)\n",
    "y = data['Statut du point de recharge_encode']\n",
    "# print(X.head())\n",
    "print(X.shape)\n",
    "# print(y.head())\n",
    "print(y.shape)"
   ]
  },
  {
   "cell_type": "markdown",
   "metadata": {},
   "source": [
    "Find the optimal number of features with SFM"
   ]
  },
  {
   "cell_type": "code",
   "execution_count": 252,
   "metadata": {},
   "outputs": [
    {
     "data": {
      "text/plain": [
       "Index(['Code INSEE commune_x', 'Nombre point de recharge', 'Puissance max KW',\n",
       "       'latitude', 'longitude', 'Arrondissement_x_encode',\n",
       "       'Type implantation_encode', 'Paiement CB_encode',\n",
       "       'Accessibilité PMR_encode', 'Restriction gabarit_encode',\n",
       "       'Stationnement 2 roues_encode', 'Type de chargeur_encode'],\n",
       "      dtype='object')"
      ]
     },
     "execution_count": 252,
     "metadata": {},
     "output_type": "execute_result"
    }
   ],
   "source": [
    "X.columns"
   ]
  },
  {
   "cell_type": "code",
   "execution_count": 253,
   "metadata": {},
   "outputs": [
    {
     "data": {
      "text/plain": [
       "2"
      ]
     },
     "execution_count": 253,
     "metadata": {},
     "output_type": "execute_result"
    }
   ],
   "source": [
    "# Find the optimal number of features with SFM\n",
    "from sklearn.ensemble import RandomForestClassifier\n",
    "from sklearn.feature_selection import SelectFromModel\n",
    "\n",
    "SFM = SelectFromModel(estimator=RandomForestClassifier())\n",
    "s = SFM.fit(X, y)\n",
    "\n",
    "n_features = s.transform(X).shape[1]\n",
    "n_features"
   ]
  },
  {
   "cell_type": "code",
   "execution_count": 254,
   "metadata": {},
   "outputs": [
    {
     "data": {
      "text/plain": [
       "Index(['latitude', 'longitude'], dtype='object')"
      ]
     },
     "execution_count": 254,
     "metadata": {},
     "output_type": "execute_result"
    }
   ],
   "source": [
    "# Get the features names \n",
    "feature_idx = s.get_support()\n",
    "feature_name = X.columns[feature_idx]\n",
    "feature_name"
   ]
  },
  {
   "cell_type": "code",
   "execution_count": 255,
   "metadata": {},
   "outputs": [],
   "source": [
    "from sklearn.model_selection import train_test_split"
   ]
  },
  {
   "cell_type": "code",
   "execution_count": 256,
   "metadata": {},
   "outputs": [],
   "source": [
    "# split dataset with features\n",
    "X = data[['latitude', 'longitude']]\n",
    "y = data['Statut du point de recharge_encode']\n",
    "\n",
    "# train-test split\n",
    "X_train, X_test, y_train, y_test = train_test_split(X, y, test_size=0.3, stratify=y, random_state=42)"
   ]
  },
  {
   "cell_type": "code",
   "execution_count": 257,
   "metadata": {},
   "outputs": [
    {
     "name": "stdout",
     "output_type": "stream",
     "text": [
      "------------- 1 -------------------\n",
      "[[216 154]\n",
      " [141  99]]\n",
      "------------- 2 -------------------\n",
      "[[320  50]\n",
      " [201  39]]\n",
      "------------- 3 -------------------\n",
      "[[240 130]\n",
      " [162  78]]\n",
      "------------- 4 -------------------\n",
      "[[310  60]\n",
      " [206  34]]\n",
      "------------- 5 -------------------\n",
      "[[264 106]\n",
      " [176  64]]\n",
      "------------- 6 -------------------\n",
      "[[298  72]\n",
      " [200  40]]\n",
      "------------- 7 -------------------\n",
      "[[269 101]\n",
      " [181  59]]\n",
      "------------- 8 -------------------\n",
      "[[307  63]\n",
      " [200  40]]\n",
      "------------- 9 -------------------\n",
      "[[280  90]\n",
      " [184  56]]\n",
      "------------- 10 -------------------\n",
      "[[312  58]\n",
      " [200  40]]\n",
      "------------- 11 -------------------\n",
      "[[280  90]\n",
      " [182  58]]\n",
      "------------- 12 -------------------\n",
      "[[318  52]\n",
      " [212  28]]\n",
      "------------- 13 -------------------\n",
      "[[290  80]\n",
      " [187  53]]\n",
      "------------- 14 -------------------\n",
      "[[318  52]\n",
      " [212  28]]\n",
      "------------- 15 -------------------\n",
      "[[296  74]\n",
      " [199  41]]\n",
      "------------- 16 -------------------\n",
      "[[323  47]\n",
      " [212  28]]\n",
      "------------- 17 -------------------\n",
      "[[293  77]\n",
      " [202  38]]\n",
      "------------- 18 -------------------\n",
      "[[317  53]\n",
      " [213  27]]\n",
      "------------- 19 -------------------\n",
      "[[296  74]\n",
      " [199  41]]\n",
      "------------- 20 -------------------\n",
      "[[314  56]\n",
      " [208  32]]\n",
      "------------- 21 -------------------\n",
      "[[298  72]\n",
      " [197  43]]\n",
      "------------- 22 -------------------\n",
      "[[318  52]\n",
      " [206  34]]\n",
      "------------- 23 -------------------\n",
      "[[304  66]\n",
      " [199  41]]\n",
      "------------- 24 -------------------\n",
      "[[324  46]\n",
      " [209  31]]\n",
      "------------- 25 -------------------\n",
      "[[306  64]\n",
      " [201  39]]\n",
      "------------- 26 -------------------\n",
      "[[323  47]\n",
      " [214  26]]\n",
      "------------- 27 -------------------\n",
      "[[312  58]\n",
      " [204  36]]\n",
      "------------- 28 -------------------\n",
      "[[328  42]\n",
      " [222  18]]\n",
      "------------- 29 -------------------\n",
      "[[319  51]\n",
      " [215  25]]\n"
     ]
    },
    {
     "data": {
      "image/png": "[encoded data removed]",
      "text/plain": [
       "<Figure size 432x288 with 1 Axes>"
      ]
     },
     "metadata": {
      "needs_background": "light"
     },
     "output_type": "display_data"
    }
   ],
   "source": [
    "k_range = list(range(1,30))\n",
    "scores = []\n",
    "for k in k_range:\n",
    "    knn = KNeighborsClassifier(n_neighbors=k)\n",
    "    knn.fit(X_train, y_train)\n",
    "    y_pred = knn.predict(X_test)\n",
    "    scores.append(metrics.accuracy_score(y_test, y_pred))\n",
    "    print ('-------------', k, '-------------------')\n",
    "    print(metrics.confusion_matrix(y_test, y_pred))\n",
    "    \n",
    "plt.plot(k_range, scores)\n",
    "plt.xlabel('Value of k for KNN')\n",
    "plt.ylabel('Accuracy Score')\n",
    "plt.title('Accuracy Scores for Values of k of k-Nearest-Neighbors')\n",
    "plt.show()"
   ]
  },
  {
   "cell_type": "code",
   "execution_count": 258,
   "metadata": {},
   "outputs": [
    {
     "data": {
      "text/plain": [
       "[0.5163934426229508,\n",
       " 0.5885245901639344,\n",
       " 0.521311475409836,\n",
       " 0.5639344262295082,\n",
       " 0.5377049180327869,\n",
       " 0.5540983606557377,\n",
       " 0.5377049180327869,\n",
       " 0.5688524590163935,\n",
       " 0.5508196721311476,\n",
       " 0.5770491803278689,\n",
       " 0.5540983606557377,\n",
       " 0.5672131147540984,\n",
       " 0.5622950819672131,\n",
       " 0.5672131147540984,\n",
       " 0.5524590163934426,\n",
       " 0.5754098360655737,\n",
       " 0.5426229508196722,\n",
       " 0.5639344262295082,\n",
       " 0.5524590163934426,\n",
       " 0.5672131147540984,\n",
       " 0.559016393442623,\n",
       " 0.5770491803278689,\n",
       " 0.5655737704918032,\n",
       " 0.5819672131147541,\n",
       " 0.5655737704918032,\n",
       " 0.5721311475409836,\n",
       " 0.5704918032786885,\n",
       " 0.5672131147540984,\n",
       " 0.5639344262295082]"
      ]
     },
     "execution_count": 258,
     "metadata": {},
     "output_type": "execute_result"
    }
   ],
   "source": [
    "scores"
   ]
  },
  {
   "cell_type": "code",
   "execution_count": 259,
   "metadata": {},
   "outputs": [],
   "source": [
    "knn = KNeighborsClassifier(n_neighbors=2)\n",
    "knn.fit(X_train, y_train)\n",
    "y_pred_knn = knn.predict(X_test)"
   ]
  },
  {
   "cell_type": "code",
   "execution_count": 260,
   "metadata": {},
   "outputs": [
    {
     "name": "stdout",
     "output_type": "stream",
     "text": [
      "0.5885245901639344\n"
     ]
    }
   ],
   "source": [
    "#print accuracy of model\n",
    "print(metrics.accuracy_score(y_test,y_pred_knn))"
   ]
  },
  {
   "cell_type": "code",
   "execution_count": 261,
   "metadata": {},
   "outputs": [],
   "source": [
    "y_pred_knn=knn.predict(X_test)"
   ]
  },
  {
   "cell_type": "code",
   "execution_count": 262,
   "metadata": {},
   "outputs": [
    {
     "data": {
      "text/plain": [
       "array([[320,  50],\n",
       "       [201,  39]], dtype=int64)"
      ]
     },
     "execution_count": 262,
     "metadata": {},
     "output_type": "execute_result"
    }
   ],
   "source": [
    "metrics.confusion_matrix(y_test, y_pred_knn)"
   ]
  },
  {
   "cell_type": "code",
   "execution_count": 263,
   "metadata": {},
   "outputs": [
    {
     "data": {
      "text/html": [
       "<div>\n",
       "<style scoped>\n",
       "    .dataframe tbody tr th:only-of-type {\n",
       "        vertical-align: middle;\n",
       "    }\n",
       "\n",
       "    .dataframe tbody tr th {\n",
       "        vertical-align: top;\n",
       "    }\n",
       "\n",
       "    .dataframe thead th {\n",
       "        text-align: right;\n",
       "    }\n",
       "</style>\n",
       "<table border=\"1\" class=\"dataframe\">\n",
       "  <thead>\n",
       "    <tr style=\"text-align: right;\">\n",
       "      <th>col_0</th>\n",
       "      <th>0</th>\n",
       "      <th>1</th>\n",
       "    </tr>\n",
       "    <tr>\n",
       "      <th>Statut du point de recharge_encode</th>\n",
       "      <th></th>\n",
       "      <th></th>\n",
       "    </tr>\n",
       "  </thead>\n",
       "  <tbody>\n",
       "    <tr>\n",
       "      <th>0</th>\n",
       "      <td>320</td>\n",
       "      <td>50</td>\n",
       "    </tr>\n",
       "    <tr>\n",
       "      <th>1</th>\n",
       "      <td>201</td>\n",
       "      <td>39</td>\n",
       "    </tr>\n",
       "  </tbody>\n",
       "</table>\n",
       "</div>"
      ],
      "text/plain": [
       "col_0                                 0   1\n",
       "Statut du point de recharge_encode         \n",
       "0                                   320  50\n",
       "1                                   201  39"
      ]
     },
     "execution_count": 263,
     "metadata": {},
     "output_type": "execute_result"
    }
   ],
   "source": [
    "pd.crosstab(y_test, y_pred_knn)"
   ]
  },
  {
   "cell_type": "code",
   "execution_count": 264,
   "metadata": {},
   "outputs": [],
   "source": [
    "def generate_results(model, predictions, name):\n",
    "    cl_rep = classification_report(y_test, predictions)\n",
    "    print(\"\\nThe classification report for \" + name + \" is:\", cl_rep, sep = \"\\n\")\n",
    "    cm_model = confusion_matrix(y_test, predictions)\n",
    "    plt.figure(figsize = (8, 6))\n",
    "    sns.heatmap(cm_model, annot = True, cmap = 'Blues', annot_kws = {'size': 15}, square = True)\n",
    "    plt.title('Confusion Matrix for ' + name, size = 15)\n",
    "    plt.xticks(size = 15)\n",
    "    plt.yticks(size = 15)\n",
    "    plt.show() \n",
    "from sklearn.metrics import classification_report\n",
    "from sklearn.metrics import confusion_matrix"
   ]
  },
  {
   "cell_type": "code",
   "execution_count": 265,
   "metadata": {},
   "outputs": [
    {
     "name": "stdout",
     "output_type": "stream",
     "text": [
      "\n",
      "The classification report for KNeighborsClassifier is:\n",
      "              precision    recall  f1-score   support\n",
      "\n",
      "           0       0.61      0.86      0.72       370\n",
      "           1       0.44      0.16      0.24       240\n",
      "\n",
      "    accuracy                           0.59       610\n",
      "   macro avg       0.53      0.51      0.48       610\n",
      "weighted avg       0.54      0.59      0.53       610\n",
      "\n"
     ]
    },
    {
     "data": {
      "image/png": "[encoded data removed]",
      "text/plain": [
       "<Figure size 576x432 with 2 Axes>"
      ]
     },
     "metadata": {
      "needs_background": "light"
     },
     "output_type": "display_data"
    }
   ],
   "source": [
    "generate_results(knn, y_pred_knn, 'KNeighborsClassifier')"
   ]
  },
  {
   "cell_type": "code",
   "execution_count": 268,
   "metadata": {},
   "outputs": [
    {
     "data": {
      "text/plain": [
       "array(['Occupé (en charge)', 'Disponible'], dtype=object)"
      ]
     },
     "execution_count": 268,
     "metadata": {},
     "output_type": "execute_result"
    }
   ],
   "source": [
    "data['Statut du point de recharge'].unique()"
   ]
  },
  {
   "cell_type": "code",
   "execution_count": 269,
   "metadata": {},
   "outputs": [
    {
     "data": {
      "text/plain": [
       "0.5136824324324325"
      ]
     },
     "execution_count": 269,
     "metadata": {},
     "output_type": "execute_result"
    }
   ],
   "source": [
    "from sklearn.metrics import roc_auc_score\n",
    "\n",
    "metrics.roc_auc_score(y_test, y_pred_knn)"
   ]
  },
  {
   "cell_type": "markdown",
   "metadata": {},
   "source": [
    "### TPOT"
   ]
  },
  {
   "cell_type": "code",
   "execution_count": 270,
   "metadata": {},
   "outputs": [
    {
     "name": "stdout",
     "output_type": "stream",
     "text": [
      "tpot: 0.11.7\n"
     ]
    },
    {
     "name": "stderr",
     "output_type": "stream",
     "text": [
      "c:\\Users\\ABR\\anaconda3\\lib\\site-packages\\tpot\\builtins\\__init__.py:36: UserWarning: Warning: optional dependency `torch` is not available. - skipping import of NN models.\n",
      "  warnings.warn(\"Warning: optional dependency `torch` is not available. - skipping import of NN models.\")\n"
     ]
    }
   ],
   "source": [
    "# check tpot version\n",
    "import tpot\n",
    "print('tpot: %s' % tpot.__version__)"
   ]
  },
  {
   "cell_type": "code",
   "execution_count": 271,
   "metadata": {},
   "outputs": [],
   "source": [
    "from tpot import TPOTClassifier"
   ]
  },
  {
   "cell_type": "code",
   "execution_count": 355,
   "metadata": {},
   "outputs": [],
   "source": [
    "pipeline_optimizer = TPOTClassifier(generations=20, population_size=20, cv=5,\n",
    "                                    random_state=42, verbosity=2, mutation_rate=0.7)"
   ]
  },
  {
   "cell_type": "code",
   "execution_count": 356,
   "metadata": {},
   "outputs": [
    {
     "data": {
      "application/vnd.jupyter.widget-view+json": {
       "model_id": "8809b422ee814a4e95721334d34a1378",
       "version_major": 2,
       "version_minor": 0
      },
      "text/plain": [
       "Optimization Progress:   0%|          | 0/420 [00:00<?, ?pipeline/s]"
      ]
     },
     "metadata": {},
     "output_type": "display_data"
    },
    {
     "name": "stdout",
     "output_type": "stream",
     "text": [
      "\n",
      "Generation 1 - Current best internal CV score: 0.6056427955133736\n",
      "\n",
      "Generation 2 - Current best internal CV score: 0.6056427955133736\n",
      "\n",
      "Generation 3 - Current best internal CV score: 0.6056427955133736\n",
      "\n",
      "Generation 4 - Current best internal CV score: 0.6056427955133736\n",
      "\n",
      "Generation 5 - Current best internal CV score: 0.6062985332182916\n",
      "\n",
      "Generation 6 - Current best internal CV score: 0.6062985332182916\n",
      "\n",
      "Generation 7 - Current best internal CV score: 0.6062985332182916\n",
      "\n",
      "Generation 8 - Current best internal CV score: 0.6076121656600517\n",
      "\n",
      "Generation 9 - Current best internal CV score: 0.6076121656600517\n",
      "\n",
      "Generation 10 - Current best internal CV score: 0.6076121656600517\n",
      "\n",
      "Generation 11 - Current best internal CV score: 0.6076121656600517\n",
      "\n",
      "Generation 12 - Current best internal CV score: 0.6076121656600517\n",
      "\n",
      "Generation 13 - Current best internal CV score: 0.6076121656600517\n",
      "\n",
      "Generation 14 - Current best internal CV score: 0.6076121656600517\n",
      "\n",
      "Generation 15 - Current best internal CV score: 0.6076121656600517\n",
      "\n",
      "Generation 16 - Current best internal CV score: 0.6076121656600517\n",
      "\n",
      "Generation 17 - Current best internal CV score: 0.6076121656600517\n",
      "\n",
      "Generation 18 - Current best internal CV score: 0.6076121656600517\n",
      "\n",
      "Generation 19 - Current best internal CV score: 0.6076121656600517\n",
      "\n",
      "Generation 20 - Current best internal CV score: 0.6076121656600517\n",
      "\n",
      "Best pipeline: ExtraTreesClassifier(PolynomialFeatures(input_matrix, degree=2, include_bias=False, interaction_only=False), bootstrap=True, criterion=entropy, max_features=0.2, min_samples_leaf=14, min_samples_split=7, n_estimators=100)\n"
     ]
    },
    {
     "data": {
      "text/html": [
       "<style>#sk-container-id-11 {color: black;background-color: white;}#sk-container-id-11 pre{padding: 0;}#sk-container-id-11 div.sk-toggleable {background-color: white;}#sk-container-id-11 label.sk-toggleable__label {cursor: pointer;display: block;width: 100%;margin-bottom: 0;padding: 0.3em;box-sizing: border-box;text-align: center;}#sk-container-id-11 label.sk-toggleable__label-arrow:before {content: \"▸\";float: left;margin-right: 0.25em;color: #696969;}#sk-container-id-11 label.sk-toggleable__label-arrow:hover:before {color: black;}#sk-container-id-11 div.sk-estimator:hover label.sk-toggleable__label-arrow:before {color: black;}#sk-container-id-11 div.sk-toggleable__content {max-height: 0;max-width: 0;overflow: hidden;text-align: left;background-color: #f0f8ff;}#sk-container-id-11 div.sk-toggleable__content pre {margin: 0.2em;color: black;border-radius: 0.25em;background-color: #f0f8ff;}#sk-container-id-11 input.sk-toggleable__control:checked~div.sk-toggleable__content {max-height: 200px;max-width: 100%;overflow: auto;}#sk-container-id-11 input.sk-toggleable__control:checked~label.sk-toggleable__label-arrow:before {content: \"▾\";}#sk-container-id-11 div.sk-estimator input.sk-toggleable__control:checked~label.sk-toggleable__label {background-color: #d4ebff;}#sk-container-id-11 div.sk-label input.sk-toggleable__control:checked~label.sk-toggleable__label {background-color: #d4ebff;}#sk-container-id-11 input.sk-hidden--visually {border: 0;clip: rect(1px 1px 1px 1px);clip: rect(1px, 1px, 1px, 1px);height: 1px;margin: -1px;overflow: hidden;padding: 0;position: absolute;width: 1px;}#sk-container-id-11 div.sk-estimator {font-family: monospace;background-color: #f0f8ff;border: 1px dotted black;border-radius: 0.25em;box-sizing: border-box;margin-bottom: 0.5em;}#sk-container-id-11 div.sk-estimator:hover {background-color: #d4ebff;}#sk-container-id-11 div.sk-parallel-item::after {content: \"\";width: 100%;border-bottom: 1px solid gray;flex-grow: 1;}#sk-container-id-11 div.sk-label:hover label.sk-toggleable__label {background-color: #d4ebff;}#sk-container-id-11 div.sk-serial::before {content: \"\";position: absolute;border-left: 1px solid gray;box-sizing: border-box;top: 0;bottom: 0;left: 50%;z-index: 0;}#sk-container-id-11 div.sk-serial {display: flex;flex-direction: column;align-items: center;background-color: white;padding-right: 0.2em;padding-left: 0.2em;position: relative;}#sk-container-id-11 div.sk-item {position: relative;z-index: 1;}#sk-container-id-11 div.sk-parallel {display: flex;align-items: stretch;justify-content: center;background-color: white;position: relative;}#sk-container-id-11 div.sk-item::before, #sk-container-id-11 div.sk-parallel-item::before {content: \"\";position: absolute;border-left: 1px solid gray;box-sizing: border-box;top: 0;bottom: 0;left: 50%;z-index: -1;}#sk-container-id-11 div.sk-parallel-item {display: flex;flex-direction: column;z-index: 1;position: relative;background-color: white;}#sk-container-id-11 div.sk-parallel-item:first-child::after {align-self: flex-end;width: 50%;}#sk-container-id-11 div.sk-parallel-item:last-child::after {align-self: flex-start;width: 50%;}#sk-container-id-11 div.sk-parallel-item:only-child::after {width: 0;}#sk-container-id-11 div.sk-dashed-wrapped {border: 1px dashed gray;margin: 0 0.4em 0.5em 0.4em;box-sizing: border-box;padding-bottom: 0.4em;background-color: white;}#sk-container-id-11 div.sk-label label {font-family: monospace;font-weight: bold;display: inline-block;line-height: 1.2em;}#sk-container-id-11 div.sk-label-container {text-align: center;}#sk-container-id-11 div.sk-container {/* jupyter's `normalize.less` sets `[hidden] { display: none; }` but bootstrap.min.css set `[hidden] { display: none !important; }` so we also need the `!important` here to be able to override the default hidden behavior on the sphinx rendered scikit-learn.org. See: https://github.com/scikit-learn/scikit-learn/issues/21755 */display: inline-block !important;position: relative;}#sk-container-id-11 div.sk-text-repr-fallback {display: none;}</style><div id=\"sk-container-id-11\" class=\"sk-top-container\"><div class=\"sk-text-repr-fallback\"><pre>TPOTClassifier(generations=20, mutation_rate=0.7, population_size=20,\n",
       "               random_state=42, verbosity=2)</pre><b>In a Jupyter environment, please rerun this cell to show the HTML representation or trust the notebook. <br />On GitHub, the HTML representation is unable to render, please try loading this page with nbviewer.org.</b></div><div class=\"sk-container\" hidden><div class=\"sk-item\"><div class=\"sk-estimator sk-toggleable\"><input class=\"sk-toggleable__control sk-hidden--visually\" id=\"sk-estimator-id-32\" type=\"checkbox\" checked><label for=\"sk-estimator-id-32\" class=\"sk-toggleable__label sk-toggleable__label-arrow\">TPOTClassifier</label><div class=\"sk-toggleable__content\"><pre>TPOTClassifier(generations=20, mutation_rate=0.7, population_size=20,\n",
       "               random_state=42, verbosity=2)</pre></div></div></div></div></div>"
      ],
      "text/plain": [
       "TPOTClassifier(generations=20, mutation_rate=0.7, population_size=20,\n",
       "               random_state=42, verbosity=2)"
      ]
     },
     "execution_count": 356,
     "metadata": {},
     "output_type": "execute_result"
    }
   ],
   "source": [
    "pipeline_optimizer.fit(X_train, y_train)"
   ]
  },
  {
   "cell_type": "markdown",
   "metadata": {},
   "source": [
    "# ExtraTreesClassifier"
   ]
  },
  {
   "cell_type": "code",
   "execution_count": 274,
   "metadata": {},
   "outputs": [],
   "source": [
    "\n",
    "from sklearn.ensemble import ExtraTreesClassifier\n",
    "from sklearn.model_selection import train_test_split\n",
    "from sklearn.model_selection import cross_val_score\n",
    "from sklearn.metrics import confusion_matrix"
   ]
  },
  {
   "cell_type": "code",
   "execution_count": 277,
   "metadata": {},
   "outputs": [],
   "source": [
    "# split dataset with features\n",
    "X = data[['latitude', 'longitude']]\n",
    "y = data['Statut du point de recharge_encode']\n",
    "\n",
    "# train-test split\n",
    "X_train, X_test, y_train, y_test = train_test_split(X, y, test_size=0.3, stratify=y, random_state=42)"
   ]
  },
  {
   "cell_type": "code",
   "execution_count": 278,
   "metadata": {},
   "outputs": [
    {
     "name": "stdout",
     "output_type": "stream",
     "text": [
      "ExtraTreesClassifier()\n"
     ]
    },
    {
     "data": {
      "text/html": [
       "<style>#sk-container-id-3 {color: black;background-color: white;}#sk-container-id-3 pre{padding: 0;}#sk-container-id-3 div.sk-toggleable {background-color: white;}#sk-container-id-3 label.sk-toggleable__label {cursor: pointer;display: block;width: 100%;margin-bottom: 0;padding: 0.3em;box-sizing: border-box;text-align: center;}#sk-container-id-3 label.sk-toggleable__label-arrow:before {content: \"▸\";float: left;margin-right: 0.25em;color: #696969;}#sk-container-id-3 label.sk-toggleable__label-arrow:hover:before {color: black;}#sk-container-id-3 div.sk-estimator:hover label.sk-toggleable__label-arrow:before {color: black;}#sk-container-id-3 div.sk-toggleable__content {max-height: 0;max-width: 0;overflow: hidden;text-align: left;background-color: #f0f8ff;}#sk-container-id-3 div.sk-toggleable__content pre {margin: 0.2em;color: black;border-radius: 0.25em;background-color: #f0f8ff;}#sk-container-id-3 input.sk-toggleable__control:checked~div.sk-toggleable__content {max-height: 200px;max-width: 100%;overflow: auto;}#sk-container-id-3 input.sk-toggleable__control:checked~label.sk-toggleable__label-arrow:before {content: \"▾\";}#sk-container-id-3 div.sk-estimator input.sk-toggleable__control:checked~label.sk-toggleable__label {background-color: #d4ebff;}#sk-container-id-3 div.sk-label input.sk-toggleable__control:checked~label.sk-toggleable__label {background-color: #d4ebff;}#sk-container-id-3 input.sk-hidden--visually {border: 0;clip: rect(1px 1px 1px 1px);clip: rect(1px, 1px, 1px, 1px);height: 1px;margin: -1px;overflow: hidden;padding: 0;position: absolute;width: 1px;}#sk-container-id-3 div.sk-estimator {font-family: monospace;background-color: #f0f8ff;border: 1px dotted black;border-radius: 0.25em;box-sizing: border-box;margin-bottom: 0.5em;}#sk-container-id-3 div.sk-estimator:hover {background-color: #d4ebff;}#sk-container-id-3 div.sk-parallel-item::after {content: \"\";width: 100%;border-bottom: 1px solid gray;flex-grow: 1;}#sk-container-id-3 div.sk-label:hover label.sk-toggleable__label {background-color: #d4ebff;}#sk-container-id-3 div.sk-serial::before {content: \"\";position: absolute;border-left: 1px solid gray;box-sizing: border-box;top: 0;bottom: 0;left: 50%;z-index: 0;}#sk-container-id-3 div.sk-serial {display: flex;flex-direction: column;align-items: center;background-color: white;padding-right: 0.2em;padding-left: 0.2em;position: relative;}#sk-container-id-3 div.sk-item {position: relative;z-index: 1;}#sk-container-id-3 div.sk-parallel {display: flex;align-items: stretch;justify-content: center;background-color: white;position: relative;}#sk-container-id-3 div.sk-item::before, #sk-container-id-3 div.sk-parallel-item::before {content: \"\";position: absolute;border-left: 1px solid gray;box-sizing: border-box;top: 0;bottom: 0;left: 50%;z-index: -1;}#sk-container-id-3 div.sk-parallel-item {display: flex;flex-direction: column;z-index: 1;position: relative;background-color: white;}#sk-container-id-3 div.sk-parallel-item:first-child::after {align-self: flex-end;width: 50%;}#sk-container-id-3 div.sk-parallel-item:last-child::after {align-self: flex-start;width: 50%;}#sk-container-id-3 div.sk-parallel-item:only-child::after {width: 0;}#sk-container-id-3 div.sk-dashed-wrapped {border: 1px dashed gray;margin: 0 0.4em 0.5em 0.4em;box-sizing: border-box;padding-bottom: 0.4em;background-color: white;}#sk-container-id-3 div.sk-label label {font-family: monospace;font-weight: bold;display: inline-block;line-height: 1.2em;}#sk-container-id-3 div.sk-label-container {text-align: center;}#sk-container-id-3 div.sk-container {/* jupyter's `normalize.less` sets `[hidden] { display: none; }` but bootstrap.min.css set `[hidden] { display: none !important; }` so we also need the `!important` here to be able to override the default hidden behavior on the sphinx rendered scikit-learn.org. See: https://github.com/scikit-learn/scikit-learn/issues/21755 */display: inline-block !important;position: relative;}#sk-container-id-3 div.sk-text-repr-fallback {display: none;}</style><div id=\"sk-container-id-3\" class=\"sk-top-container\"><div class=\"sk-text-repr-fallback\"><pre>ExtraTreesClassifier(bootstrap=True, criterion=&#x27;entropy&#x27;,\n",
       "                     max_features=0.8500000000000001, min_samples_leaf=10,\n",
       "                     min_samples_split=19)</pre><b>In a Jupyter environment, please rerun this cell to show the HTML representation or trust the notebook. <br />On GitHub, the HTML representation is unable to render, please try loading this page with nbviewer.org.</b></div><div class=\"sk-container\" hidden><div class=\"sk-item\"><div class=\"sk-estimator sk-toggleable\"><input class=\"sk-toggleable__control sk-hidden--visually\" id=\"sk-estimator-id-3\" type=\"checkbox\" checked><label for=\"sk-estimator-id-3\" class=\"sk-toggleable__label sk-toggleable__label-arrow\">ExtraTreesClassifier</label><div class=\"sk-toggleable__content\"><pre>ExtraTreesClassifier(bootstrap=True, criterion=&#x27;entropy&#x27;,\n",
       "                     max_features=0.8500000000000001, min_samples_leaf=10,\n",
       "                     min_samples_split=19)</pre></div></div></div></div></div>"
      ],
      "text/plain": [
       "ExtraTreesClassifier(bootstrap=True, criterion='entropy',\n",
       "                     max_features=0.8500000000000001, min_samples_leaf=10,\n",
       "                     min_samples_split=19)"
      ]
     },
     "execution_count": 278,
     "metadata": {},
     "output_type": "execute_result"
    }
   ],
   "source": [
    "clf = ExtraTreesClassifier(n_estimators=100)\n",
    "print(clf)\n",
    "\n",
    "ExtraTreesClassifier(bootstrap=True, criterion='entropy', max_features=0.8500000000000001, min_samples_leaf=10, min_samples_split=19, n_estimators=100) "
   ]
  },
  {
   "cell_type": "code",
   "execution_count": 294,
   "metadata": {},
   "outputs": [
    {
     "name": "stdout",
     "output_type": "stream",
     "text": [
      "Score:  0.5639344262295082\n"
     ]
    }
   ],
   "source": [
    "clf.fit(X_train, y_train)\n",
    "\n",
    "score = clf.score(X_test, y_test)\n",
    "print(\"Score: \", score)"
   ]
  },
  {
   "cell_type": "markdown",
   "metadata": {},
   "source": [
    "We can also apply a cross-validation method to the model and check the training accuracy."
   ]
  },
  {
   "cell_type": "code",
   "execution_count": 295,
   "metadata": {},
   "outputs": [
    {
     "name": "stdout",
     "output_type": "stream",
     "text": [
      "CV average score: 0.53\n"
     ]
    }
   ],
   "source": [
    "cv_scores = cross_val_score(clf, X_train, y_train, cv=5 )\n",
    "print(\"CV average score: %.2f\" % cv_scores.mean())"
   ]
  },
  {
   "cell_type": "markdown",
   "metadata": {},
   "source": [
    "\n",
    "Predicting and accuracy check\n",
    "\n",
    "Now, we can predict the test data by using the trained model. After the prediction, we'll check the accuracy level by using the confusion matrix function."
   ]
  },
  {
   "cell_type": "code",
   "execution_count": 297,
   "metadata": {},
   "outputs": [
    {
     "name": "stdout",
     "output_type": "stream",
     "text": [
      "[[280  90]\n",
      " [176  64]]\n"
     ]
    }
   ],
   "source": [
    "ypred_xtrees = clf.predict(X_test)\n",
    "\n",
    "cm = confusion_matrix(y_test, ypred_xtrees)\n",
    "print(cm)"
   ]
  },
  {
   "cell_type": "code",
   "execution_count": 298,
   "metadata": {},
   "outputs": [
    {
     "name": "stdout",
     "output_type": "stream",
     "text": [
      "\n",
      "The classification report for ExtraTreesClassifier is:\n",
      "              precision    recall  f1-score   support\n",
      "\n",
      "           0       0.61      0.76      0.68       370\n",
      "           1       0.42      0.27      0.32       240\n",
      "\n",
      "    accuracy                           0.56       610\n",
      "   macro avg       0.51      0.51      0.50       610\n",
      "weighted avg       0.54      0.56      0.54       610\n",
      "\n"
     ]
    },
    {
     "data": {
      "image/png": "[encoded data removed]",
      "text/plain": [
       "<Figure size 576x432 with 2 Axes>"
      ]
     },
     "metadata": {
      "needs_background": "light"
     },
     "output_type": "display_data"
    }
   ],
   "source": [
    "generate_results(clf, ypred_xtrees, 'ExtraTreesClassifier')"
   ]
  },
  {
   "cell_type": "markdown",
   "metadata": {},
   "source": [
    "### RandomForestClassifier"
   ]
  },
  {
   "cell_type": "code",
   "execution_count": 299,
   "metadata": {},
   "outputs": [],
   "source": [
    "from sklearn.ensemble import RandomForestClassifier"
   ]
  },
  {
   "cell_type": "code",
   "execution_count": 300,
   "metadata": {},
   "outputs": [
    {
     "name": "stdout",
     "output_type": "stream",
     "text": [
      "The accuracy of the Random Forest Classifier is: 53.77049180327869 %\n"
     ]
    }
   ],
   "source": [
    "rfc = RandomForestClassifier()\n",
    "rfc.fit(X_train, y_train)\n",
    "y_pred_rfc = rfc.predict(X_test)\n",
    "acc_rfc = rfc.score(X_test, y_test)\n",
    "print('The accuracy of the Random Forest Classifier is:', acc_rfc * 100, '%')\n"
   ]
  },
  {
   "cell_type": "code",
   "execution_count": 301,
   "metadata": {},
   "outputs": [
    {
     "name": "stdout",
     "output_type": "stream",
     "text": [
      "0.5377049180327869\n"
     ]
    }
   ],
   "source": [
    "#print accuracy of model\n",
    "print(metrics.accuracy_score(y_test, y_pred_rfc))"
   ]
  },
  {
   "cell_type": "code",
   "execution_count": 302,
   "metadata": {},
   "outputs": [
    {
     "name": "stdout",
     "output_type": "stream",
     "text": [
      "0.39805825242718446\n"
     ]
    }
   ],
   "source": [
    "#print precision value of model\n",
    "print(metrics.precision_score(y_test, y_pred_rfc))"
   ]
  },
  {
   "cell_type": "code",
   "execution_count": 303,
   "metadata": {},
   "outputs": [
    {
     "name": "stdout",
     "output_type": "stream",
     "text": [
      "0.3416666666666667\n"
     ]
    }
   ],
   "source": [
    "#print recall value of model\n",
    "print(metrics.recall_score(y_test,y_pred_rfc))"
   ]
  },
  {
   "cell_type": "code",
   "execution_count": 304,
   "metadata": {},
   "outputs": [
    {
     "data": {
      "text/plain": [
       "0.5032657657657658"
      ]
     },
     "execution_count": 304,
     "metadata": {},
     "output_type": "execute_result"
    }
   ],
   "source": [
    "from sklearn.metrics import roc_auc_score\n",
    "\n",
    "metrics.roc_auc_score(y_test, y_pred_rfc)"
   ]
  },
  {
   "cell_type": "code",
   "execution_count": 305,
   "metadata": {},
   "outputs": [
    {
     "data": {
      "text/plain": [
       "array([[246, 124],\n",
       "       [158,  82]], dtype=int64)"
      ]
     },
     "execution_count": 305,
     "metadata": {},
     "output_type": "execute_result"
    }
   ],
   "source": [
    "metrics.confusion_matrix(y_test, y_pred_rfc)"
   ]
  },
  {
   "cell_type": "code",
   "execution_count": 291,
   "metadata": {},
   "outputs": [
    {
     "name": "stdout",
     "output_type": "stream",
     "text": [
      "\n",
      "The classification report for RandomForestClassifier is:\n",
      "              precision    recall  f1-score   support\n",
      "\n",
      "           0       0.61      0.68      0.65       370\n",
      "           1       0.41      0.34      0.37       240\n",
      "\n",
      "    accuracy                           0.55       610\n",
      "   macro avg       0.51      0.51      0.51       610\n",
      "weighted avg       0.53      0.55      0.54       610\n",
      "\n"
     ]
    },
    {
     "data": {
      "image/png": "[encoded data removed]",
      "text/plain": [
       "<Figure size 576x432 with 2 Axes>"
      ]
     },
     "metadata": {
      "needs_background": "light"
     },
     "output_type": "display_data"
    }
   ],
   "source": [
    "generate_results(rfc, y_pred_rfc, 'RandomForestClassifier')"
   ]
  },
  {
   "cell_type": "code",
   "execution_count": 292,
   "metadata": {},
   "outputs": [
    {
     "data": {
      "image/png": "[encoded data removed]",
      "text/plain": [
       "<Figure size 432x288 with 1 Axes>"
      ]
     },
     "metadata": {
      "needs_background": "light"
     },
     "output_type": "display_data"
    }
   ],
   "source": [
    "fpr, tpr, thresholds = metrics.roc_curve(y_test, y_pred_rfc)\n",
    "roc_auc = metrics.auc(fpr, tpr)\n",
    "display = metrics.RocCurveDisplay(fpr=fpr, tpr=tpr)\n",
    "display.plot()\n",
    "plt.show()"
   ]
  },
  {
   "cell_type": "markdown",
   "metadata": {},
   "source": [
    "### DecisionTreeClassifier"
   ]
  },
  {
   "cell_type": "code",
   "execution_count": 306,
   "metadata": {},
   "outputs": [],
   "source": [
    "from sklearn.tree import DecisionTreeClassifier"
   ]
  },
  {
   "cell_type": "code",
   "execution_count": 307,
   "metadata": {},
   "outputs": [],
   "source": [
    "\n",
    "clf = DecisionTreeClassifier(random_state=0)"
   ]
  },
  {
   "cell_type": "code",
   "execution_count": 308,
   "metadata": {},
   "outputs": [
    {
     "name": "stdout",
     "output_type": "stream",
     "text": [
      "The accuracy of the Random Forest Classifier is: 56.0655737704918 %\n"
     ]
    }
   ],
   "source": [
    "dtc = DecisionTreeClassifier(random_state=0)\n",
    "dtc.fit(X_train, y_train)\n",
    "y_pred_dtc = dtc.predict(X_test)\n",
    "acc_dtc = dtc.score(X_test, y_test)\n",
    "print('The accuracy of the Random Forest Classifier is:', acc_dtc * 100, '%')"
   ]
  },
  {
   "cell_type": "code",
   "execution_count": 309,
   "metadata": {},
   "outputs": [
    {
     "data": {
      "text/plain": [
       "array([[279,  91],\n",
       "       [177,  63]], dtype=int64)"
      ]
     },
     "execution_count": 309,
     "metadata": {},
     "output_type": "execute_result"
    }
   ],
   "source": [
    "metrics.confusion_matrix(y_test, y_pred_dtc)"
   ]
  },
  {
   "cell_type": "code",
   "execution_count": 310,
   "metadata": {},
   "outputs": [
    {
     "name": "stdout",
     "output_type": "stream",
     "text": [
      "\n",
      "The classification report for DecisionTreeClassifier is:\n",
      "              precision    recall  f1-score   support\n",
      "\n",
      "           0       0.61      0.75      0.68       370\n",
      "           1       0.41      0.26      0.32       240\n",
      "\n",
      "    accuracy                           0.56       610\n",
      "   macro avg       0.51      0.51      0.50       610\n",
      "weighted avg       0.53      0.56      0.54       610\n",
      "\n"
     ]
    },
    {
     "data": {
      "image/png": "[encoded data removed]",
      "text/plain": [
       "<Figure size 576x432 with 2 Axes>"
      ]
     },
     "metadata": {
      "needs_background": "light"
     },
     "output_type": "display_data"
    }
   ],
   "source": [
    "generate_results(rfc, y_pred_dtc, 'DecisionTreeClassifier')"
   ]
  },
  {
   "cell_type": "markdown",
   "metadata": {},
   "source": [
    "### GaussianNB"
   ]
  },
  {
   "cell_type": "code",
   "execution_count": 366,
   "metadata": {},
   "outputs": [],
   "source": [
    "from sklearn.model_selection import train_test_split\n",
    "from sklearn.naive_bayes import GaussianNB"
   ]
  },
  {
   "cell_type": "code",
   "execution_count": 372,
   "metadata": {},
   "outputs": [],
   "source": [
    "# split dataset with features\n",
    "X = data[['Nombre point de recharge', 'Puissance max KW',       \n",
    "       'Type implantation_encode', 'Paiement CB_encode',\n",
    "       'Accessibilité PMR_encode', 'Restriction gabarit_encode',\n",
    "       'Stationnement 2 roues_encode', 'Type de chargeur_encode']]\n",
    "y = data['Statut du point de recharge_encode']\n",
    "\n",
    "# train-test split\n",
    "X_train, X_test, y_train, y_test = train_test_split(X, y, test_size=0.3, stratify=y, random_state=42)"
   ]
  },
  {
   "cell_type": "code",
   "execution_count": 368,
   "metadata": {},
   "outputs": [
    {
     "name": "stdout",
     "output_type": "stream",
     "text": [
      "Number of mislabeled points out of a total 610 points : 240\n"
     ]
    }
   ],
   "source": [
    "gnb = GaussianNB()\n",
    "y_pred_gnb = gnb.fit(X_train, y_train).predict(X_test)\n",
    "print(\"Number of mislabeled points out of a total %d points : %d\" % (X_test.shape[0], (y_test != y_pred).sum()))\n"
   ]
  },
  {
   "cell_type": "code",
   "execution_count": 370,
   "metadata": {},
   "outputs": [
    {
     "data": {
      "text/plain": [
       "array([[335,  35],\n",
       "       [215,  25]], dtype=int64)"
      ]
     },
     "execution_count": 370,
     "metadata": {},
     "output_type": "execute_result"
    }
   ],
   "source": [
    "metrics.confusion_matrix(y_test, y_pred_gnb)"
   ]
  },
  {
   "cell_type": "code",
   "execution_count": 369,
   "metadata": {},
   "outputs": [
    {
     "name": "stdout",
     "output_type": "stream",
     "text": [
      "\n",
      "The classification report for GaussianNB is:\n",
      "              precision    recall  f1-score   support\n",
      "\n",
      "           0       0.61      0.91      0.73       370\n",
      "           1       0.42      0.10      0.17       240\n",
      "\n",
      "    accuracy                           0.59       610\n",
      "   macro avg       0.51      0.50      0.45       610\n",
      "weighted avg       0.53      0.59      0.51       610\n",
      "\n"
     ]
    },
    {
     "data": {
      "image/png": "[encoded data removed]",
      "text/plain": [
       "<Figure size 576x432 with 2 Axes>"
      ]
     },
     "metadata": {
      "needs_background": "light"
     },
     "output_type": "display_data"
    }
   ],
   "source": [
    "generate_results(gnb, y_pred_gnb, 'GaussianNB')"
   ]
  },
  {
   "cell_type": "code",
   "execution_count": 373,
   "metadata": {},
   "outputs": [
    {
     "data": {
      "text/plain": [
       "0.6062992125984252"
      ]
     },
     "execution_count": 373,
     "metadata": {},
     "output_type": "execute_result"
    }
   ],
   "source": [
    "\n",
    "from sklearn.ensemble import RandomForestClassifier, StackingClassifier\n",
    "from sklearn.linear_model import LogisticRegression\n",
    "from sklearn.model_selection import train_test_split\n",
    "from sklearn.neighbors import KNeighborsClassifier\n",
    "\n",
    "X_train, X_test, y_train, y_test = train_test_split(X, y, stratify=y, random_state=42)\n",
    "\n",
    "# Create Base Learners\n",
    "base_learners = [\n",
    "                 ('rf_1', RandomForestClassifier(n_estimators=10, random_state=42)),\n",
    "                 ('rf_2', KNeighborsClassifier(n_neighbors=5))             \n",
    "                ]\n",
    "\n",
    "# Initialize Stacking Classifier with the Meta Learner\n",
    "clf = StackingClassifier(estimators=base_learners, final_estimator=LogisticRegression())\n",
    "\n",
    "# Extract score\n",
    "\n",
    "clf.fit(X_train, y_train).score(X_test, y_test)"
   ]
  },
  {
   "cell_type": "code",
   "execution_count": 374,
   "metadata": {},
   "outputs": [],
   "source": [
    "\n",
    "y_pred_clf = clf.fit(X_train, y_train).predict(X_test)"
   ]
  },
  {
   "cell_type": "code",
   "execution_count": 375,
   "metadata": {},
   "outputs": [
    {
     "name": "stderr",
     "output_type": "stream",
     "text": [
      "c:\\Users\\ABR\\anaconda3\\lib\\site-packages\\sklearn\\metrics\\_classification.py:1334: UndefinedMetricWarning: Precision and F-score are ill-defined and being set to 0.0 in labels with no predicted samples. Use `zero_division` parameter to control this behavior.\n",
      "  _warn_prf(average, modifier, msg_start, len(result))\n",
      "c:\\Users\\ABR\\anaconda3\\lib\\site-packages\\sklearn\\metrics\\_classification.py:1334: UndefinedMetricWarning: Precision and F-score are ill-defined and being set to 0.0 in labels with no predicted samples. Use `zero_division` parameter to control this behavior.\n",
      "  _warn_prf(average, modifier, msg_start, len(result))\n",
      "c:\\Users\\ABR\\anaconda3\\lib\\site-packages\\sklearn\\metrics\\_classification.py:1334: UndefinedMetricWarning: Precision and F-score are ill-defined and being set to 0.0 in labels with no predicted samples. Use `zero_division` parameter to control this behavior.\n",
      "  _warn_prf(average, modifier, msg_start, len(result))\n"
     ]
    },
    {
     "name": "stdout",
     "output_type": "stream",
     "text": [
      "\n",
      "The classification report for LogisticRegression is:\n",
      "              precision    recall  f1-score   support\n",
      "\n",
      "           0       0.61      1.00      0.75       308\n",
      "           1       0.00      0.00      0.00       200\n",
      "\n",
      "    accuracy                           0.61       508\n",
      "   macro avg       0.30      0.50      0.38       508\n",
      "weighted avg       0.37      0.61      0.46       508\n",
      "\n"
     ]
    },
    {
     "data": {
      "image/png": "[encoded data removed]",
      "text/plain": [
       "<Figure size 576x432 with 2 Axes>"
      ]
     },
     "metadata": {
      "needs_background": "light"
     },
     "output_type": "display_data"
    }
   ],
   "source": [
    "generate_results(clf, y_pred_clf, 'LogisticRegression')"
   ]
  },
  {
   "cell_type": "code",
   "execution_count": null,
   "metadata": {},
   "outputs": [],
   "source": []
  }
 ],
 "metadata": {
  "kernelspec": {
   "display_name": "Python 3.9.12 ('base')",
   "language": "python",
   "name": "python3"
  },
  "language_info": {
   "codemirror_mode": {
    "name": "ipython",
    "version": 3
   },
   "file_extension": ".py",
   "mimetype": "text/x-python",
   "name": "python",
   "nbconvert_exporter": "python",
   "pygments_lexer": "ipython3",
   "version": "3.9.12"
  },
  "orig_nbformat": 4,
  "vscode": {
   "interpreter": {
    "hash": "a30add7c8e4d33a5bdb7043325678fb7a749884015e3f465812c6269e93fc9ee"
   }
  }
 },
 "nbformat": 4,
 "nbformat_minor": 2
}
